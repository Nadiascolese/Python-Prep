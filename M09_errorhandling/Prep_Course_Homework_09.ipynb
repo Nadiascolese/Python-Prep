{
 "cells": [
  {
   "attachments": {},
   "cell_type": "markdown",
   "metadata": {},
   "source": [
    "## Manejo de errores"
   ]
  },
  {
   "attachments": {},
   "cell_type": "markdown",
   "metadata": {},
   "source": [
    "1) Con la clase creada en el módulo 7, tener en cuenta diferentes casos en que el código pudiera arrojar error. Por ejemplo, en la creación del objeto recibimos una lista de números enteros pero ¿qué pasa si se envía otro tipo de dato?"
   ]
  },
  {
   "cell_type": "code",
   "execution_count": 1,
   "metadata": {},
   "outputs": [],
   "source": [
    "import herramientas as h "
   ]
  },
  {
   "cell_type": "code",
   "execution_count": 2,
   "metadata": {},
   "outputs": [
    {
     "ename": "ValueError",
     "evalue": "Se creo una lista vacia. se esperaba una lista de numeros enteros",
     "output_type": "error",
     "traceback": [
      "\u001b[1;31m---------------------------------------------------------------------------\u001b[0m",
      "\u001b[1;31mValueError\u001b[0m                                Traceback (most recent call last)",
      "\u001b[1;32mc:\\Users\\naysc\\OneDrive\\Escritorio\\henry\\Python-Prep\\M09_errorhandling\\Prep_Course_Homework_09.ipynb Cell 4\u001b[0m line \u001b[0;36m1\n\u001b[1;32m----> <a href='vscode-notebook-cell:/c%3A/Users/naysc/OneDrive/Escritorio/henry/Python-Prep/M09_errorhandling/Prep_Course_Homework_09.ipynb#W3sZmlsZQ%3D%3D?line=0'>1</a>\u001b[0m h1\u001b[39m=\u001b[39mh\u001b[39m.\u001b[39;49mHerramientas(\u001b[39m\"\u001b[39;49m\u001b[39mh\u001b[39;49m\u001b[39m\"\u001b[39;49m)\n",
      "File \u001b[1;32mc:\\Users\\naysc\\OneDrive\\Escritorio\\henry\\Python-Prep\\M09_errorhandling\\herramientas.py:5\u001b[0m, in \u001b[0;36mHerramientas.__init__\u001b[1;34m(self, lista_numeros)\u001b[0m\n\u001b[0;32m      3\u001b[0m \u001b[39mif\u001b[39;00m \u001b[39mtype\u001b[39m (lista_numeros) \u001b[39m!=\u001b[39m \u001b[39mlist\u001b[39m : \u001b[39m#como es una lista decximos que si la lista de numeros es distinto al tipo de lista, entonces :\u001b[39;00m\n\u001b[0;32m      4\u001b[0m  \u001b[39mself\u001b[39m\u001b[39m.\u001b[39mlist\u001b[39m=\u001b[39m[] \u001b[39m#creamos una lista vacia en donde se almacenen\u001b[39;00m\n\u001b[1;32m----> 5\u001b[0m  \u001b[39mraise\u001b[39;00m \u001b[39mValueError\u001b[39;00m (\u001b[39m\"\u001b[39m\u001b[39mSe creo una lista vacia. se esperaba una lista de numeros enteros\u001b[39m\u001b[39m\"\u001b[39m) \u001b[39m#con raise salvamos el error y valuerror porque es un error de valor\u001b[39;00m\n\u001b[0;32m      6\u001b[0m \u001b[39melse\u001b[39;00m :\n\u001b[0;32m      7\u001b[0m  \u001b[39mself\u001b[39m\u001b[39m.\u001b[39mlista \u001b[39m=\u001b[39m lista_numeros\n",
      "\u001b[1;31mValueError\u001b[0m: Se creo una lista vacia. se esperaba una lista de numeros enteros"
     ]
    }
   ],
   "source": [
    "h1=h.Herramientas(\"h\")"
   ]
  },
  {
   "cell_type": "code",
   "execution_count": 3,
   "metadata": {},
   "outputs": [],
   "source": [
    "h2=h.Herramientas ([1,2,2,3,4,5])"
   ]
  },
  {
   "cell_type": "code",
   "execution_count": 4,
   "metadata": {},
   "outputs": [
    {
     "name": "stdout",
     "output_type": "stream",
     "text": [
      "El factorial de  1 es 1\n",
      "El factorial de  2 es 2\n",
      "El factorial de  2 es 2\n",
      "El factorial de  3 es 6\n",
      "El factorial de  4 es 24\n",
      "El factorial de  5 es 120\n"
     ]
    }
   ],
   "source": [
    "h2.factorial()"
   ]
  },
  {
   "attachments": {},
   "cell_type": "markdown",
   "metadata": {},
   "source": [
    "2) En la función que hace la conversión de grados, validar que los parámetros enviados sean los esperados, de no serlo, informar cuáles son los valores esperados."
   ]
  },
  {
   "cell_type": "code",
   "execution_count": 5,
   "metadata": {},
   "outputs": [
    {
     "data": {
      "text/plain": [
       "<module 'herramientas' from 'c:\\\\Users\\\\naysc\\\\OneDrive\\\\Escritorio\\\\henry\\\\Python-Prep\\\\M09_errorhandling\\\\herramientas.py'>"
      ]
     },
     "execution_count": 5,
     "metadata": {},
     "output_type": "execute_result"
    }
   ],
   "source": [
    "import importlib #con importlib lo que hacemos es recarcar el modulo que estamos trabajando. en este caso herramientas alias h\n",
    "importlib.reload(h)\n",
    "#esto es para no apretar restart y correr riesgo de borrar variables"
   ]
  },
  {
   "cell_type": "code",
   "execution_count": 6,
   "metadata": {},
   "outputs": [
    {
     "ename": "TypeError",
     "evalue": "'str' object is not callable",
     "output_type": "error",
     "traceback": [
      "\u001b[1;31m---------------------------------------------------------------------------\u001b[0m",
      "\u001b[1;31mTypeError\u001b[0m                                 Traceback (most recent call last)",
      "\u001b[1;32mc:\\Users\\naysc\\OneDrive\\Escritorio\\henry\\Python-Prep\\M09_errorhandling\\Prep_Course_Homework_09.ipynb Cell 9\u001b[0m line \u001b[0;36m3\n\u001b[0;32m      <a href='vscode-notebook-cell:/c%3A/Users/naysc/OneDrive/Escritorio/henry/Python-Prep/M09_errorhandling/Prep_Course_Homework_09.ipynb#X11sZmlsZQ%3D%3D?line=0'>1</a>\u001b[0m \u001b[39mimport\u001b[39;00m \u001b[39mherramientas\u001b[39;00m \u001b[39mas\u001b[39;00m \u001b[39mh\u001b[39;00m\n\u001b[0;32m      <a href='vscode-notebook-cell:/c%3A/Users/naysc/OneDrive/Escritorio/henry/Python-Prep/M09_errorhandling/Prep_Course_Homework_09.ipynb#X11sZmlsZQ%3D%3D?line=1'>2</a>\u001b[0m h1\u001b[39m=\u001b[39mh\u001b[39m.\u001b[39mHerramientas ([\u001b[39m1\u001b[39m,\u001b[39m2\u001b[39m,\u001b[39m2\u001b[39m,\u001b[39m3\u001b[39m,\u001b[39m4\u001b[39m,\u001b[39m5\u001b[39m])\n\u001b[1;32m----> <a href='vscode-notebook-cell:/c%3A/Users/naysc/OneDrive/Escritorio/henry/Python-Prep/M09_errorhandling/Prep_Course_Homework_09.ipynb#X11sZmlsZQ%3D%3D?line=2'>3</a>\u001b[0m h1\u001b[39m.\u001b[39;49mconversion_grados (\u001b[39m1\u001b[39;49m,\u001b[39m2\u001b[39;49m)\n",
      "File \u001b[1;32mc:\\Users\\naysc\\OneDrive\\Escritorio\\henry\\Python-Prep\\M09_errorhandling\\herramientas.py:24\u001b[0m, in \u001b[0;36mHerramientas.conversion_grados\u001b[1;34m(self, origen, destino)\u001b[0m\n\u001b[0;32m     22\u001b[0m lista_conversion \u001b[39m=\u001b[39m [] \u001b[39m#creamos una lista para guardar los resultados de la conversion\u001b[39;00m\n\u001b[0;32m     23\u001b[0m \u001b[39mif\u001b[39;00m \u001b[39mstr\u001b[39m(origen) \u001b[39mnot\u001b[39;00m \u001b[39min\u001b[39;00m parametros_esperados : \u001b[39m#hacemos un loop para saber si el origen esta o no en parametros esperados\u001b[39;00m\n\u001b[1;32m---> 24\u001b[0m     \u001b[39mprint\u001b[39m(\u001b[39m\"\u001b[39;49m\u001b[39mLos parametros de origen esperados son: \u001b[39;49m\u001b[39m\"\u001b[39;49m(parametros_esperados))\n\u001b[0;32m     25\u001b[0m     \u001b[39mreturn\u001b[39;00m lista_conversion \u001b[39m#en este caso retornaria una lista vacia porque los valores ingresados no funcionaron\u001b[39;00m\n\u001b[0;32m     26\u001b[0m \u001b[39mif\u001b[39;00m \u001b[39mstr\u001b[39m(destino) \u001b[39mnot\u001b[39;00m \u001b[39min\u001b[39;00m parametros_esperados :\n",
      "\u001b[1;31mTypeError\u001b[0m: 'str' object is not callable"
     ]
    }
   ],
   "source": [
    "import herramientas as h\n",
    "h1=h.Herramientas ([1,2,2,3,4,5])\n",
    "h1.conversion_grados (1,2)"
   ]
  },
  {
   "cell_type": "code",
   "execution_count": 7,
   "metadata": {},
   "outputs": [
    {
     "ename": "TypeError",
     "evalue": "'str' object is not callable",
     "output_type": "error",
     "traceback": [
      "\u001b[1;31m---------------------------------------------------------------------------\u001b[0m",
      "\u001b[1;31mTypeError\u001b[0m                                 Traceback (most recent call last)",
      "\u001b[1;32mc:\\Users\\naysc\\OneDrive\\Escritorio\\henry\\Python-Prep\\M09_errorhandling\\Prep_Course_Homework_09.ipynb Cell 10\u001b[0m line \u001b[0;36m2\n\u001b[0;32m      <a href='vscode-notebook-cell:/c%3A/Users/naysc/OneDrive/Escritorio/henry/Python-Prep/M09_errorhandling/Prep_Course_Homework_09.ipynb#X12sZmlsZQ%3D%3D?line=0'>1</a>\u001b[0m h2\u001b[39m=\u001b[39mh\u001b[39m.\u001b[39mHerramientas([\u001b[39m1\u001b[39m,\u001b[39m1\u001b[39m,\u001b[39m2\u001b[39m,\u001b[39m3\u001b[39m,\u001b[39m4\u001b[39m,\u001b[39m5\u001b[39m])\n\u001b[1;32m----> <a href='vscode-notebook-cell:/c%3A/Users/naysc/OneDrive/Escritorio/henry/Python-Prep/M09_errorhandling/Prep_Course_Homework_09.ipynb#X12sZmlsZQ%3D%3D?line=1'>2</a>\u001b[0m h2\u001b[39m.\u001b[39;49mconversion_grados(\u001b[39m\"\u001b[39;49m\u001b[39mcelsius\u001b[39;49m\u001b[39m\"\u001b[39;49m,\u001b[39m2\u001b[39;49m)\n",
      "File \u001b[1;32mc:\\Users\\naysc\\OneDrive\\Escritorio\\henry\\Python-Prep\\M09_errorhandling\\herramientas.py:27\u001b[0m, in \u001b[0;36mHerramientas.conversion_grados\u001b[1;34m(self, origen, destino)\u001b[0m\n\u001b[0;32m     25\u001b[0m     \u001b[39mreturn\u001b[39;00m lista_conversion \u001b[39m#en este caso retornaria una lista vacia porque los valores ingresados no funcionaron\u001b[39;00m\n\u001b[0;32m     26\u001b[0m \u001b[39mif\u001b[39;00m \u001b[39mstr\u001b[39m(destino) \u001b[39mnot\u001b[39;00m \u001b[39min\u001b[39;00m parametros_esperados :\n\u001b[1;32m---> 27\u001b[0m     \u001b[39mprint\u001b[39m(\u001b[39m\"\u001b[39;49m\u001b[39mLos parametros de destino esperados son: \u001b[39;49m\u001b[39m\"\u001b[39;49m(parametros_esperados))\n\u001b[0;32m     28\u001b[0m     \u001b[39mreturn\u001b[39;00m lista_conversion\n\u001b[0;32m     30\u001b[0m \u001b[39mfor\u001b[39;00m i \u001b[39min\u001b[39;00m \u001b[39mself\u001b[39m\u001b[39m.\u001b[39mlista:\n",
      "\u001b[1;31mTypeError\u001b[0m: 'str' object is not callable"
     ]
    }
   ],
   "source": [
    "h2=h.Herramientas([1,1,2,3,4,5])\n",
    "h2.conversion_grados(\"celsius\",2)"
   ]
  },
  {
   "cell_type": "code",
   "execution_count": 8,
   "metadata": {},
   "outputs": [
    {
     "data": {
      "text/plain": [
       "[33.8]"
      ]
     },
     "execution_count": 8,
     "metadata": {},
     "output_type": "execute_result"
    }
   ],
   "source": [
    "h2=h.Herramientas([1,1,2,3,4,5])\n",
    "h2.conversion_grados(\"celsius\",\"farenheit\")"
   ]
  },
  {
   "attachments": {},
   "cell_type": "markdown",
   "metadata": {},
   "source": [
    "3) Importar el modulo \"unittest\" y crear los siguientes casos de pruebas sobre la clase utilizada en el punto 2<br>\n",
    "Creacion del objeto incorrecta<br>\n",
    "Creacion correcta del objeto<br>\n",
    "Metodo valor_modal()<br>\n",
    "\n",
    "Se puede usar \"raise ValueError()\" en la creación de la clase para verificar el error. Investigar sobre esta funcionalidad."
   ]
  },
  {
   "cell_type": "code",
   "execution_count": 9,
   "metadata": {},
   "outputs": [],
   "source": [
    "import unittest #importamos con unittest. creamos nuestra clase\n",
    "class prueba_de_clase (unittest.TestCase) :\n",
    "    def test_crear_objeto1(self) : #creamos el objeto y la funcion a la cual le vbamos a pasar un parametro \n",
    "        parametro=\"hola\" \n",
    "        self.assertRaises(ValueError, h.Herramientas,parametro) #assertraises lo que hace es crear la clase y ver que pasa con valuerror ya que habiamos aclarado que se debe ingresar una lista"
   ]
  },
  {
   "cell_type": "code",
   "execution_count": 10,
   "metadata": {},
   "outputs": [],
   "source": [
    "def test_crear_objeto2(self):\n",
    "        parametro=[1,2,2,3,3,4]\n",
    "        h1= h.Herramientas(parametro)\n",
    "        self.assertEqual(h1.lista,parametro) #con assertequal evaluamos que la lista que quedo almacenada sea igual a la lista que tenemos en nuestro objeto"
   ]
  },
  {
   "cell_type": "code",
   "execution_count": 11,
   "metadata": {},
   "outputs": [],
   "source": [
    "def test_valor_modal(self) :\n",
    "    lista=[1,2,3,3]\n",
    "    h1=h.Herramientas(lista)\n",
    "    moda, veces=h1.valor_modal()\n",
    "    moda=[moda] #el valorde la moda lo hacemos lista y lo appendamos a las veces que fue repetido\n",
    "    moda.append(veces)\n",
    "    resultado=[3,2]\n",
    "    self.assertEqual(moda, resultado)\n",
    "    #REHACER\n",
    "    #(no entra en el chalenge!!)"
   ]
  },
  {
   "cell_type": "code",
   "execution_count": 12,
   "metadata": {},
   "outputs": [
    {
     "data": {
      "text/plain": [
       "<bound method Herramientas.valor_modal of <herramientas.Herramientas object at 0x00000228545F0610>>"
      ]
     },
     "execution_count": 12,
     "metadata": {},
     "output_type": "execute_result"
    }
   ],
   "source": [
    "lista=[1,2,1,4]\n",
    "h1=h.Herramientas(lista) #rehacer para valores de valor modal\n",
    "h1.valor_modal"
   ]
  },
  {
   "cell_type": "code",
   "execution_count": 13,
   "metadata": {},
   "outputs": [
    {
     "name": "stderr",
     "output_type": "stream",
     "text": [
      "test_crear_objeto1 (__main__.prueba_de_clase.test_crear_objeto1) ... ok\n",
      "\n",
      "----------------------------------------------------------------------\n",
      "Ran 1 test in 0.003s\n",
      "\n",
      "OK\n"
     ]
    },
    {
     "data": {
      "text/plain": [
       "<unittest.main.TestProgram at 0x228546f3450>"
      ]
     },
     "execution_count": 13,
     "metadata": {},
     "output_type": "execute_result"
    }
   ],
   "source": [
    "unittest.main (argv=[\"\"] ,verbosity=2, exit=False)"
   ]
  },
  {
   "attachments": {},
   "cell_type": "markdown",
   "metadata": {},
   "source": [
    "4) Probar una creación incorrecta y visualizar la salida del \"raise\""
   ]
  },
  {
   "cell_type": "code",
   "execution_count": 14,
   "metadata": {},
   "outputs": [
    {
     "ename": "ValueError",
     "evalue": "Se creo una lista vacia. se esperaba una lista de numeros enteros",
     "output_type": "error",
     "traceback": [
      "\u001b[1;31m---------------------------------------------------------------------------\u001b[0m",
      "\u001b[1;31mValueError\u001b[0m                                Traceback (most recent call last)",
      "\u001b[1;32mc:\\Users\\naysc\\OneDrive\\Escritorio\\henry\\Python-Prep\\M09_errorhandling\\Prep_Course_Homework_09.ipynb Cell 19\u001b[0m line \u001b[0;36m1\n\u001b[1;32m----> <a href='vscode-notebook-cell:/c%3A/Users/naysc/OneDrive/Escritorio/henry/Python-Prep/M09_errorhandling/Prep_Course_Homework_09.ipynb#X24sZmlsZQ%3D%3D?line=0'>1</a>\u001b[0m h2\u001b[39m=\u001b[39m h\u001b[39m.\u001b[39;49mHerramientas(\u001b[39m\"\u001b[39;49m\u001b[39mhola\u001b[39;49m\u001b[39m\"\u001b[39;49m) \u001b[39m#aca saldria error porque se esperaria una lista de numeros. sale el valueerror que creamos antes\u001b[39;00m\n",
      "File \u001b[1;32mc:\\Users\\naysc\\OneDrive\\Escritorio\\henry\\Python-Prep\\M09_errorhandling\\herramientas.py:5\u001b[0m, in \u001b[0;36mHerramientas.__init__\u001b[1;34m(self, lista_numeros)\u001b[0m\n\u001b[0;32m      3\u001b[0m \u001b[39mif\u001b[39;00m \u001b[39mtype\u001b[39m (lista_numeros) \u001b[39m!=\u001b[39m \u001b[39mlist\u001b[39m : \u001b[39m#como es una lista decximos que si la lista de numeros es distinto al tipo de lista, entonces :\u001b[39;00m\n\u001b[0;32m      4\u001b[0m  \u001b[39mself\u001b[39m\u001b[39m.\u001b[39mlist\u001b[39m=\u001b[39m[] \u001b[39m#creamos una lista vacia en donde se almacenen\u001b[39;00m\n\u001b[1;32m----> 5\u001b[0m  \u001b[39mraise\u001b[39;00m \u001b[39mValueError\u001b[39;00m (\u001b[39m\"\u001b[39m\u001b[39mSe creo una lista vacia. se esperaba una lista de numeros enteros\u001b[39m\u001b[39m\"\u001b[39m) \u001b[39m#con raise salvamos el error y valuerror porque es un error de valor\u001b[39;00m\n\u001b[0;32m      6\u001b[0m \u001b[39melse\u001b[39;00m :\n\u001b[0;32m      7\u001b[0m  \u001b[39mself\u001b[39m\u001b[39m.\u001b[39mlista \u001b[39m=\u001b[39m lista_numeros\n",
      "\u001b[1;31mValueError\u001b[0m: Se creo una lista vacia. se esperaba una lista de numeros enteros"
     ]
    }
   ],
   "source": [
    "h2= h.Herramientas(\"hola\") #aca saldria error porque se esperaria una lista de numeros. sale el valueerror que creamos antes"
   ]
  },
  {
   "attachments": {},
   "cell_type": "markdown",
   "metadata": {},
   "source": [
    "6) Agregar casos de pruebas para el método verifica_primos() realizando el cambio en la clase, para que devuelva una lista de True o False en función de que el elemento en la posisicón sea o no primo"
   ]
  },
  {
   "cell_type": "code",
   "execution_count": 15,
   "metadata": {},
   "outputs": [
    {
     "data": {
      "text/plain": [
       "<module 'herramientas' from 'c:\\\\Users\\\\naysc\\\\OneDrive\\\\Escritorio\\\\henry\\\\Python-Prep\\\\M09_errorhandling\\\\herramientas.py'>"
      ]
     },
     "execution_count": 15,
     "metadata": {},
     "output_type": "execute_result"
    }
   ],
   "source": [
    "importlib.reload(h) #volvemos a recargar el modulo"
   ]
  },
  {
   "cell_type": "code",
   "execution_count": 16,
   "metadata": {},
   "outputs": [],
   "source": [
    "class prueba_de_clase2(unittest.TestCase) :\n",
    "    def test_verifica_primos(self):\n",
    "        lista=[1,2,3,4,5]\n",
    "        h1=h.Herramientas(lista)\n",
    "        primos=h1.verifica_primo()\n",
    "        primos_esperado=[True,True,False,False,True]\n",
    "        self.assertEqual(primos,primos_esperado)"
   ]
  },
  {
   "cell_type": "code",
   "execution_count": 17,
   "metadata": {},
   "outputs": [],
   "source": [
    "h3=h.Herramientas([1,2,3,4,5])\n",
    "h3.verifica_primo()"
   ]
  },
  {
   "cell_type": "code",
   "execution_count": 18,
   "metadata": {},
   "outputs": [
    {
     "name": "stderr",
     "output_type": "stream",
     "text": [
      "test_crear_objeto1 (__main__.prueba_de_clase.test_crear_objeto1) ... ok\n",
      "test_verifica_primos (__main__.prueba_de_clase2.test_verifica_primos) ... FAIL\n",
      "\n",
      "======================================================================\n",
      "FAIL: test_verifica_primos (__main__.prueba_de_clase2.test_verifica_primos)\n",
      "----------------------------------------------------------------------\n",
      "Traceback (most recent call last):\n",
      "  File \"C:\\Users\\naysc\\AppData\\Local\\Temp\\ipykernel_5904\\986534511.py\", line 7, in test_verifica_primos\n",
      "    self.assertEqual(primos,primos_esperado)\n",
      "AssertionError: None != [True, True, False, False, True]\n",
      "\n",
      "----------------------------------------------------------------------\n",
      "Ran 2 tests in 0.004s\n",
      "\n",
      "FAILED (failures=1)\n"
     ]
    },
    {
     "data": {
      "text/plain": [
       "<unittest.main.TestProgram at 0x2285476f750>"
      ]
     },
     "execution_count": 18,
     "metadata": {},
     "output_type": "execute_result"
    }
   ],
   "source": [
    "unittest.main (argv= [\"\"] , verbosity=2 , exit= False)"
   ]
  },
  {
   "attachments": {},
   "cell_type": "markdown",
   "metadata": {},
   "source": [
    "7) Agregar casos de pruebas para el método conversion_grados()"
   ]
  },
  {
   "cell_type": "code",
   "execution_count": 19,
   "metadata": {},
   "outputs": [],
   "source": [
    "class prueba_de_clase3 (unittest.TestCase):\n",
    "    def test_verifica_conversion (self):\n",
    "        lista= [2,3,8,6,5]\n",
    "        h1=h.Herramientas(lista)\n",
    "        grados=h1.conversion_grados(\"celsuis\", \"farenheit\")\n",
    "        grados_esperados= [35.6 ,37.4, 46.4, 50.0, 55.4]\n",
    "        self.assertAlmostEqual(grados, grados_esperados)"
   ]
  },
  {
   "cell_type": "code",
   "execution_count": 20,
   "metadata": {},
   "outputs": [
    {
     "name": "stderr",
     "output_type": "stream",
     "text": [
      "test_crear_objeto1 (__main__.prueba_de_clase.test_crear_objeto1) ... ok\n",
      "test_verifica_primos (__main__.prueba_de_clase2.test_verifica_primos) ... FAIL\n",
      "test_verifica_conversion (__main__.prueba_de_clase3.test_verifica_conversion) ... ERROR\n",
      "\n",
      "======================================================================\n",
      "ERROR: test_verifica_conversion (__main__.prueba_de_clase3.test_verifica_conversion)\n",
      "----------------------------------------------------------------------\n",
      "Traceback (most recent call last):\n",
      "  File \"C:\\Users\\naysc\\AppData\\Local\\Temp\\ipykernel_5904\\3596153068.py\", line 5, in test_verifica_conversion\n",
      "    grados=h1.conversion_grados(\"celsuis\", \"farenheit\")\n",
      "           ^^^^^^^^^^^^^^^^^^^^^^^^^^^^^^^^^^^^^^^^^^^^\n",
      "  File \"c:\\Users\\naysc\\OneDrive\\Escritorio\\henry\\Python-Prep\\M09_errorhandling\\herramientas.py\", line 24, in conversion_grados\n",
      "    print(\"Los parametros de origen esperados son: \"(parametros_esperados))\n",
      "          ^^^^^^^^^^^^^^^^^^^^^^^^^^^^^^^^^^^^^^^^^^^^^^^^^^^^^^^^^^^^^^^^\n",
      "TypeError: 'str' object is not callable\n",
      "\n",
      "======================================================================\n",
      "FAIL: test_verifica_primos (__main__.prueba_de_clase2.test_verifica_primos)\n",
      "----------------------------------------------------------------------\n",
      "Traceback (most recent call last):\n",
      "  File \"C:\\Users\\naysc\\AppData\\Local\\Temp\\ipykernel_5904\\986534511.py\", line 7, in test_verifica_primos\n",
      "    self.assertEqual(primos,primos_esperado)\n",
      "AssertionError: None != [True, True, False, False, True]\n",
      "\n",
      "----------------------------------------------------------------------\n",
      "Ran 3 tests in 0.006s\n",
      "\n",
      "FAILED (failures=1, errors=1)\n"
     ]
    },
    {
     "data": {
      "text/plain": [
       "<unittest.main.TestProgram at 0x2285476d890>"
      ]
     },
     "execution_count": 20,
     "metadata": {},
     "output_type": "execute_result"
    }
   ],
   "source": [
    "unittest.main (argv=[\"\"], verbosity=2, exit=False)\n"
   ]
  },
  {
   "attachments": {},
   "cell_type": "markdown",
   "metadata": {},
   "source": [
    "8) Agregar casos de pruebas para el método factorial()"
   ]
  },
  {
   "cell_type": "code",
   "execution_count": null,
   "metadata": {},
   "outputs": [],
   "source": []
  }
 ],
 "metadata": {
  "interpreter": {
   "hash": "c85384e4cb51c8b72350f3a8712cc8351fdc3955e32a27f9b60c6242ab125f01"
  },
  "kernelspec": {
   "display_name": "Python 3 (ipykernel)",
   "language": "python",
   "name": "python3"
  },
  "language_info": {
   "codemirror_mode": {
    "name": "ipython",
    "version": 3
   },
   "file_extension": ".py",
   "mimetype": "text/x-python",
   "name": "python",
   "nbconvert_exporter": "python",
   "pygments_lexer": "ipython3",
   "version": "3.11.3"
  }
 },
 "nbformat": 4,
 "nbformat_minor": 4
}
