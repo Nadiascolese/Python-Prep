{
 "cells": [
  {
   "attachments": {},
   "cell_type": "markdown",
   "metadata": {},
   "source": [
    "## Funciones"
   ]
  },
  {
   "attachments": {},
   "cell_type": "markdown",
   "metadata": {},
   "source": [
    "1) Crear una función que reciba un número como parámetro y devuelva True si es primo y False si no lo es"
   ]
  },
  {
   "cell_type": "code",
   "execution_count": 78,
   "metadata": {},
   "outputs": [],
   "source": [
    "def primos_si_no (numero) :\n",
    "    primo=True\n",
    "    if numero <1 :\n",
    "        print(\"El numero ingresado es negativo\")\n",
    "        return None\n",
    "    for i in range(2,numero):\n",
    "        if numero%i==0 :\n",
    "            primo =False\n",
    "            return False\n",
    "    else:\n",
    "         return True"
   ]
  },
  {
   "cell_type": "code",
   "execution_count": 79,
   "metadata": {},
   "outputs": [
    {
     "name": "stdout",
     "output_type": "stream",
     "text": [
      "El numero ingresado es negativo\n"
     ]
    }
   ],
   "source": [
    "primos_si_no (-2)"
   ]
  },
  {
   "attachments": {},
   "cell_type": "markdown",
   "metadata": {},
   "source": [
    "2) Utilizando la función del punto 1, realizar otra función que reciba de parámetro una lista de números y devuelva sólo aquellos que son primos en otra lista"
   ]
  },
  {
   "cell_type": "code",
   "execution_count": 67,
   "metadata": {},
   "outputs": [],
   "source": [
    "def extrae_primos(lista):\n",
    "    lista_primos=[]\n",
    "    for i in lista :\n",
    "        if primos_si_no (i) : #llamamos a la funcion anterior para pasarle todos los elementos de la lista nueva y nos separe ls primos de los demas\n",
    "            lista_primos.append(i)\n",
    "    return lista_primos"
   ]
  },
  {
   "cell_type": "code",
   "execution_count": 68,
   "metadata": {},
   "outputs": [
    {
     "data": {
      "text/plain": [
       "[2, 3, 5, 7, 11]"
      ]
     },
     "execution_count": 68,
     "metadata": {},
     "output_type": "execute_result"
    }
   ],
   "source": [
    "lista_numeros=[10,2,3,5,4,7,11,98,55]\n",
    "extrae_primos(lista_numeros)"
   ]
  },
  {
   "attachments": {},
   "cell_type": "markdown",
   "metadata": {},
   "source": [
    "3) Crear una función que al recibir una lista de números, devuelva el que más se repite y cuántas veces lo hace. Si hay más de un \"más repetido\", que devuelva cualquiera"
   ]
  },
  {
   "cell_type": "code",
   "execution_count": 69,
   "metadata": {},
   "outputs": [],
   "source": [
    "numeros_lis=[1,2,3,3,4,5,6,89,23,23,22,27,10,11,2,23]"
   ]
  },
  {
   "cell_type": "code",
   "execution_count": 70,
   "metadata": {},
   "outputs": [],
   "source": [
    "def repetidos (lista):\n",
    "    contador=[]\n",
    "    for i in lista :\n",
    "        if i in contador(list):\n",
    "            contador[i]+=1\n",
    "        else:\n",
    "            contador[i]=1\n",
    "    return contador         "
   ]
  },
  {
   "cell_type": "code",
   "execution_count": 71,
   "metadata": {},
   "outputs": [
    {
     "ename": "TypeError",
     "evalue": "'list' object is not callable",
     "output_type": "error",
     "traceback": [
      "\u001b[1;31m---------------------------------------------------------------------------\u001b[0m",
      "\u001b[1;31mTypeError\u001b[0m                                 Traceback (most recent call last)",
      "Cell \u001b[1;32mIn[71], line 1\u001b[0m\n\u001b[1;32m----> 1\u001b[0m \u001b[43mrepetidos\u001b[49m\u001b[43m(\u001b[49m\u001b[43mnumeros_lis\u001b[49m\u001b[43m)\u001b[49m\n",
      "Cell \u001b[1;32mIn[70], line 4\u001b[0m, in \u001b[0;36mrepetidos\u001b[1;34m(lista)\u001b[0m\n\u001b[0;32m      2\u001b[0m contador\u001b[38;5;241m=\u001b[39m[]\n\u001b[0;32m      3\u001b[0m \u001b[38;5;28;01mfor\u001b[39;00m i \u001b[38;5;129;01min\u001b[39;00m lista :\n\u001b[1;32m----> 4\u001b[0m     \u001b[38;5;28;01mif\u001b[39;00m i \u001b[38;5;129;01min\u001b[39;00m \u001b[43mcontador\u001b[49m\u001b[43m(\u001b[49m\u001b[38;5;28;43mlist\u001b[39;49m\u001b[43m)\u001b[49m:\n\u001b[0;32m      5\u001b[0m         contador[i]\u001b[38;5;241m+\u001b[39m\u001b[38;5;241m=\u001b[39m\u001b[38;5;241m1\u001b[39m\n\u001b[0;32m      6\u001b[0m     \u001b[38;5;28;01melse\u001b[39;00m:\n",
      "\u001b[1;31mTypeError\u001b[0m: 'list' object is not callable"
     ]
    }
   ],
   "source": [
    "repetidos(numeros_lis)"
   ]
  },
  {
   "attachments": {},
   "cell_type": "markdown",
   "metadata": {},
   "source": [
    "4) A la función del punto 3, agregar un parámetro más, que permita elegir si se requiere el menor o el mayor de los mas repetidos."
   ]
  },
  {
   "cell_type": "code",
   "execution_count": null,
   "metadata": {},
   "outputs": [],
   "source": []
  },
  {
   "attachments": {},
   "cell_type": "markdown",
   "metadata": {},
   "source": [
    "5) Crear una función que convierta entre grados Celsius, Farenheit y Kelvin<br>\n",
    "Fórmula 1\t: (°C × 9/5) + 32 = °F<br>\n",
    "Fórmula 2\t: °C + 273.15 = °K<br>\n",
    "Debe recibir 3 parámetros: el valor, la medida de orígen y la medida de destino\n"
   ]
  },
  {
   "cell_type": "code",
   "execution_count": null,
   "metadata": {},
   "outputs": [],
   "source": [
    "def convertir (num,origen, destino):\n",
    "    if origen ==\"celcius\":\n",
    "        if destino == \"celcius\" :\n",
    "            num_destino= num\n",
    "        elif destino==\"farenheit\":\n",
    "            num_destino= num*9/5+32\n",
    "        elif destino== \"kelvin\" :\n",
    "            num_destino= num+273.15\n",
    "        else:\n",
    "            print(\"Destino inexistente\")\n",
    "    elif origen == \"farenheit\" :\n",
    "        if destino== \"celcius\" :\n",
    "            num_destino= num-32*5/9\n",
    "        elif destino== \"farenheit\" :\n",
    "            num_destino= num\n",
    "        elif destino== \"kelvin\" :\n",
    "            num_destino= (num-32*5/9)+273.15\n",
    "        else:\n",
    "            print(\"destino inexistente\")\n",
    "    elif origen== \"kelvin\" :\n",
    "        if destino== \"celcius\" :\n",
    "            num_destino=num-273.15\n",
    "        elif destino== \"farenheit\" :\n",
    "            num_destino= (num-273.15)*9/5+32\n",
    "        elif destino == \"kelvin\":\n",
    "            num_destino= num\n",
    "        else:\n",
    "            print(\"Destino inexistente\")\n",
    "    return num_destino\n"
   ]
  },
  {
   "cell_type": "code",
   "execution_count": null,
   "metadata": {},
   "outputs": [
    {
     "name": "stdout",
     "output_type": "stream",
     "text": [
      "2 grados celcius a fareheit : 35.6\n",
      "2 grados celcius a kelvin : 275.15\n",
      "2 grados de farenheit a kelvin : 257.3722222222222\n",
      "2 grados farenheit a celcius : -15.777777777777779\n",
      "2 grados de kelñvin a celcius : -271.15\n",
      "2 grados de kelvin a farenheit : -456.07\n"
     ]
    }
   ],
   "source": [
    "\n",
    "print(\"2 grados celcius a fareheit :\", convertir(2,\"celcius\", \"farenheit\"))\n",
    "print(\"2 grados celcius a kelvin :\" ,convertir(2,\"celcius\", \"kelvin\"))\n",
    "print(\"2 grados de farenheit a kelvin :\" ,convertir( 2,\"farenheit\",\"kelvin\"))\n",
    "print(\"2 grados farenheit a celcius :\", convertir(2, \"farenheit\", \"celcius\"))\n",
    "print(\"2 grados de kelñvin a celcius :\",convertir(2,\"kelvin\", \"celcius\"))\n",
    "print(\"2 grados de kelvin a farenheit :\",convertir(2,\"kelvin\", \"farenheit\"))"
   ]
  },
  {
   "attachments": {},
   "cell_type": "markdown",
   "metadata": {},
   "source": [
    "6) Iterando una lista con los tres valores posibles de temperatura que recibe la función del punto 5, hacer un print para cada combinación de los mismos:"
   ]
  },
  {
   "cell_type": "code",
   "execution_count": null,
   "metadata": {},
   "outputs": [
    {
     "name": "stdout",
     "output_type": "stream",
     "text": [
      "15 grados  celcius convertidos a  celcius son 15 grados\n",
      "15 grados  celcius convertidos a  farenheit son 59.0 grados\n",
      "15 grados  celcius convertidos a  kelvin son 288.15 grados\n",
      "15 grados  farenheit convertidos a  celcius son -2.7777777777777786 grados\n",
      "15 grados  farenheit convertidos a  farenheit son 15 grados\n",
      "15 grados  farenheit convertidos a  kelvin son 270.3722222222222 grados\n",
      "15 grados  kelvin convertidos a  celcius son -258.15 grados\n",
      "15 grados  kelvin convertidos a  farenheit son -432.66999999999996 grados\n",
      "15 grados  kelvin convertidos a  kelvin son 15 grados\n"
     ]
    }
   ],
   "source": [
    "lis_temp=[\"celcius\",\"farenheit\", \"kelvin\"]\n",
    "temp=15\n",
    "for i in lis_temp : #iteramos dos veces con elementos distindos para convinar los elementos de la lista\n",
    "    for c in lis_temp :\n",
    "        convertidos= convertir(temp,i,c) #llamamos a la funcin anterior y le pasamos como paramentros la temperatura y los elementos en la lista\n",
    "        print(temp,\"grados \",i, \"convertidos a \" ,c, \"son\", convertidos, \"grados\"),\n"
   ]
  },
  {
   "attachments": {},
   "cell_type": "markdown",
   "metadata": {},
   "source": [
    "7) Armar una función que devuelva el factorial de un número. Tener en cuenta que el usuario puede equivocarse y enviar de parámetro un número no entero o negativo"
   ]
  },
  {
   "cell_type": "code",
   "execution_count": 116,
   "metadata": {},
   "outputs": [],
   "source": [
    "def factoriales (num) :\n",
    "        if num == int and num>0 :\n",
    "            resultado= num*factoriales(num-1)\n",
    "            print(\"El factorial es \", resultado)\n",
    "            return resultado\n",
    "        else:\n",
    "         print(\"El numero ingresado no es un entero o es negativo\")\n",
    "         return None\n",
    "    "
   ]
  },
  {
   "cell_type": "code",
   "execution_count": 117,
   "metadata": {},
   "outputs": [
    {
     "name": "stdout",
     "output_type": "stream",
     "text": [
      "El numero ingresado no es un entero o es negativo\n",
      "None\n"
     ]
    }
   ],
   "source": [
    "print(factoriales(5))"
   ]
  }
 ],
 "metadata": {
  "interpreter": {
   "hash": "c85384e4cb51c8b72350f3a8712cc8351fdc3955e32a27f9b60c6242ab125f01"
  },
  "kernelspec": {
   "display_name": "Python 3 (ipykernel)",
   "language": "python",
   "name": "python3"
  },
  "language_info": {
   "codemirror_mode": {
    "name": "ipython",
    "version": 3
   },
   "file_extension": ".py",
   "mimetype": "text/x-python",
   "name": "python",
   "nbconvert_exporter": "python",
   "pygments_lexer": "ipython3",
   "version": "3.11.3"
  }
 },
 "nbformat": 4,
 "nbformat_minor": 4
}
