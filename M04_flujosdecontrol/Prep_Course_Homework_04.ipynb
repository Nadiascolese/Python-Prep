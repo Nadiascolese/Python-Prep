{
 "cells": [
  {
   "attachments": {},
   "cell_type": "markdown",
   "metadata": {},
   "source": [
    "## Flujos de Control"
   ]
  },
  {
   "attachments": {},
   "cell_type": "markdown",
   "metadata": {},
   "source": [
    "1) Crear una variable que contenga un elemento del conjunto de números enteros y luego imprimir por pantalla si es mayor o menor a cero"
   ]
  },
  {
   "cell_type": "code",
   "execution_count": 40,
   "metadata": {},
   "outputs": [
    {
     "name": "stdout",
     "output_type": "stream",
     "text": [
      "El numero es mayor a 0\n"
     ]
    }
   ],
   "source": [
    "a=5\n",
    "if a<0 :\n",
    "    print(\"El numero es menor a 0\")\n",
    "elif a>0 :\n",
    "    print(\"El numero es mayor a 0\")\n",
    "else :\n",
    "    print(\"El numero es igual a 0\")"
   ]
  },
  {
   "attachments": {},
   "cell_type": "markdown",
   "metadata": {},
   "source": [
    "2) Crear dos variables y un condicional que informe si son del mismo tipo de dato"
   ]
  },
  {
   "cell_type": "code",
   "execution_count": 41,
   "metadata": {},
   "outputs": [
    {
     "name": "stdout",
     "output_type": "stream",
     "text": [
      "Las variables son del mismo tipo\n"
     ]
    }
   ],
   "source": [
    "perrito= \"wody\"\n",
    "perrita=\"chanchi\"\n",
    "if type(perrito)==type(perrita):\n",
    "    print(\"Las variables son del mismo tipo\")\n",
    "else:\n",
    "    print(\"Las variables son de distinto tipo\")"
   ]
  },
  {
   "attachments": {},
   "cell_type": "markdown",
   "metadata": {},
   "source": [
    "3) Para los valores enteros del 1 al 20, imprimir por pantalla si es par o impar"
   ]
  },
  {
   "cell_type": "code",
   "execution_count": 42,
   "metadata": {},
   "outputs": [
    {
     "name": "stdout",
     "output_type": "stream",
     "text": [
      "El numero 1  es impar\n",
      "El numero 2  es par\n",
      "El numero 3  es impar\n",
      "El numero 4  es par\n",
      "El numero 5  es impar\n",
      "El numero 6  es par\n",
      "El numero 7  es impar\n",
      "El numero 8  es par\n",
      "El numero 9  es impar\n",
      "El numero 10  es par\n",
      "El numero 11  es impar\n",
      "El numero 12  es par\n",
      "El numero 13  es impar\n",
      "El numero 14  es par\n",
      "El numero 15  es impar\n",
      "El numero 16  es par\n",
      "El numero 17  es impar\n",
      "El numero 18  es par\n",
      "El numero 19  es impar\n",
      "El numero 20  es par\n"
     ]
    }
   ],
   "source": [
    "for numeros in range (1,21) :\n",
    "    if numeros%2==0 :\n",
    "        print(\"El numero\" , numeros,  \" es par\")\n",
    "    else:\n",
    "        print(\"El numero\", numeros, \" es impar\")"
   ]
  },
  {
   "cell_type": "code",
   "execution_count": 43,
   "metadata": {},
   "outputs": [
    {
     "name": "stdout",
     "output_type": "stream",
     "text": [
      "El numero 1 es impar\n",
      "El numero 2 par\n",
      "El numero 3 es impar\n",
      "El numero 4 par\n",
      "El numero 5 es impar\n",
      "El numero 6 par\n",
      "El numero 7 es impar\n",
      "El numero 8 par\n",
      "El numero 9 es impar\n",
      "El numero 10 par\n",
      "El numero 11 es impar\n",
      "El numero 12 par\n",
      "El numero 13 es impar\n",
      "El numero 14 par\n",
      "El numero 15 es impar\n",
      "El numero 16 par\n",
      "El numero 17 es impar\n",
      "El numero 18 par\n",
      "El numero 19 es impar\n",
      "El numero 20 par\n"
     ]
    }
   ],
   "source": [
    "b=1\n",
    "while(b<=20) :\n",
    "    if b%2==0 :\n",
    "        print(\"El numero\", b, \"par\")\n",
    "    else:\n",
    "        print(\"El numero\", b, \"es impar\")\n",
    "    b+=1 "
   ]
  },
  {
   "attachments": {},
   "cell_type": "markdown",
   "metadata": {},
   "source": [
    "4) En un ciclo for mostrar para los valores entre 0 y 5 el resultado de elevarlo a la potencia igual a 3"
   ]
  },
  {
   "cell_type": "code",
   "execution_count": 44,
   "metadata": {},
   "outputs": [
    {
     "name": "stdout",
     "output_type": "stream",
     "text": [
      "el numero 0 elevado a la 3 es :  0\n",
      "el numero 1 elevado a la 3 es :  1\n",
      "el numero 2 elevado a la 3 es :  8\n",
      "el numero 3 elevado a la 3 es :  27\n",
      "el numero 4 elevado a la 3 es :  64\n",
      "el numero 5 elevado a la 3 es :  125\n"
     ]
    }
   ],
   "source": [
    "for i in range (0,6) :\n",
    "    print(\"el numero\",i, \"elevado a la 3 es : \",(i**3))"
   ]
  },
  {
   "attachments": {},
   "cell_type": "markdown",
   "metadata": {},
   "source": [
    "5) Crear una variable que contenga un número entero y realizar un ciclo for la misma cantidad de ciclos"
   ]
  },
  {
   "cell_type": "code",
   "execution_count": 46,
   "metadata": {},
   "outputs": [
    {
     "name": "stdout",
     "output_type": "stream",
     "text": [
      "-2\n",
      "-1\n",
      "0\n",
      "1\n",
      "2\n",
      "3\n",
      "4\n",
      "5\n"
     ]
    }
   ],
   "source": [
    "n=6\n",
    "for i in range (-2,n) : #hacer que salte un numero\n",
    "    print(i) "
   ]
  },
  {
   "cell_type": "code",
   "execution_count": 110,
   "metadata": {},
   "outputs": [
    {
     "name": "stdout",
     "output_type": "stream",
     "text": [
      "[-2]\n",
      "[-2, -1]\n",
      "[-2, -1, 0]\n",
      "[-2, -1, 0, 1]\n",
      "[-2, -1, 0, 1, 2]\n",
      "[-2, -1, 0, 1, 2, 3]\n",
      "[-2, -1, 0, 1, 2, 3, 4]\n",
      "[-2, -1, 0, 1, 2, 3, 4, 5]\n"
     ]
    }
   ],
   "source": [
    "n=6\n",
    "lista=[]\n",
    "for i in range (-2,n) : #hacer que salte un numero\n",
    "    lista.append(i)\n",
    "    #lista[1:6:2] \n",
    "    print(lista) "
   ]
  },
  {
   "cell_type": "markdown",
   "metadata": {},
   "source": [
    "#consultar\n"
   ]
  },
  {
   "cell_type": "code",
   "execution_count": 15,
   "metadata": {},
   "outputs": [],
   "source": [
    "m=3\n",
    "lista=[]\n",
    "for i in range (-2,m) :\n",
    "    lista.append(i)\n",
    "    "
   ]
  },
  {
   "cell_type": "code",
   "execution_count": 67,
   "metadata": {},
   "outputs": [
    {
     "name": "stdout",
     "output_type": "stream",
     "text": [
      "[-2]\n",
      "[-2, -1]\n"
     ]
    }
   ],
   "source": [
    "j=3\n",
    "lista=[]\n",
    "for i in range (-2,j):\n",
    "    lista.append(i)\n",
    "    try :\n",
    "        lista.pop(2)\n",
    "    except IndexError:\n",
    "     \n",
    "     print(lista)"
   ]
  },
  {
   "attachments": {},
   "cell_type": "markdown",
   "metadata": {},
   "source": [
    "6) Utilizar un ciclo while para realizar el factorial de un número guardado en una variable, sólo si la variable contiene un número entero mayor a 0"
   ]
  },
  {
   "cell_type": "code",
   "execution_count": 35,
   "metadata": {},
   "outputs": [
    {
     "name": "stdout",
     "output_type": "stream",
     "text": [
      "El factorial de 9 es  362880\n"
     ]
    }
   ],
   "source": [
    "#consulta\n",
    "var=9\n",
    "juanito=9\n",
    "if type(var)==int and var>0 :\n",
    "        factorial=var \n",
    "        while (var>2) :\n",
    "            var-=1\n",
    "            factorial=factorial*var\n",
    "        print(\"El factorial de\",juanito,\"es \",factorial)\n",
    "else:\n",
    "    print(\"El numero\" ,var, \" no es un entero o es menor a 0\")"
   ]
  },
  {
   "cell_type": "code",
   "execution_count": 16,
   "metadata": {},
   "outputs": [
    {
     "name": "stdout",
     "output_type": "stream",
     "text": [
      "El factorial de  6 es:  720\n"
     ]
    }
   ],
   "source": [
    "t=6\n",
    "factorial=1\n",
    "for i in range(2,(t+1)):\n",
    "    factorial=factorial*i\n",
    "print(\"El factorial de \",t, \"es: \", factorial)"
   ]
  },
  {
   "attachments": {},
   "cell_type": "markdown",
   "metadata": {},
   "source": [
    "7) Crear un ciclo for dentro de un ciclo while"
   ]
  },
  {
   "cell_type": "code",
   "execution_count": 54,
   "metadata": {},
   "outputs": [
    {
     "name": "stdout",
     "output_type": "stream",
     "text": [
      "While numero 1\n",
      "For numero 1\n",
      "While numero 2\n",
      "For numero 2\n",
      "For numero 2\n",
      "While numero 3\n",
      "For numero 3\n",
      "For numero 3\n",
      "For numero 3\n"
     ]
    }
   ],
   "source": [
    "numero=1\n",
    "while numero<=3 :\n",
    "    print(\"While numero\",numero)\n",
    "    for i in range (0,numero):\n",
    "     print(\"For numero\",numero)\n",
    "    numero+=1"
   ]
  },
  {
   "attachments": {},
   "cell_type": "markdown",
   "metadata": {},
   "source": [
    "8) Crear un ciclo while dentro de un ciclo for"
   ]
  },
  {
   "cell_type": "code",
   "execution_count": 70,
   "metadata": {},
   "outputs": [
    {
     "name": "stdout",
     "output_type": "stream",
     "text": [
      "Ciclo for numero:  1\n",
      "Ciclo while numero: 4\n",
      "Ciclo for numero:  2\n",
      "Ciclo while numero: 3\n",
      "Ciclo for numero:  3\n",
      "Ciclo while numero: 2\n"
     ]
    }
   ],
   "source": [
    "s=4\n",
    "for i in range (1,s) :\n",
    "    print(\"Ciclo for numero: \", i)\n",
    "    while s>0:\n",
    "     print(\"Ciclo while numero:\" ,s)\n",
    "     s-=1\n",
    "     s<=0 \n",
    "     break"
   ]
  },
  {
   "cell_type": "code",
   "execution_count": 1,
   "metadata": {},
   "outputs": [
    {
     "name": "stdout",
     "output_type": "stream",
     "text": [
      "Ciclo for numero:  1\n",
      "Ciclo while numero: 4\n",
      "Ciclo while numero: 3\n",
      "Ciclo while numero: 2\n",
      "Ciclo while numero: 1\n",
      "Ciclo for numero:  2\n",
      "Ciclo while numero: 4\n",
      "Ciclo while numero: 3\n",
      "Ciclo while numero: 2\n",
      "Ciclo while numero: 1\n",
      "Ciclo for numero:  3\n",
      "Ciclo while numero: 4\n",
      "Ciclo while numero: 3\n",
      "Ciclo while numero: 2\n",
      "Ciclo while numero: 1\n"
     ]
    }
   ],
   "source": [
    "#manera correcta?\n",
    "num=4\n",
    "for i in range(1,num):\n",
    "    print(\"Ciclo for numero: \",i)\n",
    "    num_iterado=num #se crea una variable igualada al nro for iterado que arranca en 4 \n",
    "    while num_iterado>0: \n",
    "      print(\"Ciclo while numero:\" ,num_iterado)\n",
    "      num_iterado-=1\n",
    "      if num_iterado<=0 :\n",
    "        break\n"
   ]
  },
  {
   "attachments": {},
   "cell_type": "markdown",
   "metadata": {},
   "source": [
    "9) Imprimir los números primos existentes entre 0 y 30"
   ]
  },
  {
   "cell_type": "code",
   "execution_count": 56,
   "metadata": {},
   "outputs": [
    {
     "name": "stdout",
     "output_type": "stream",
     "text": [
      "1\n",
      "3\n",
      "5\n",
      "7\n",
      "9\n",
      "11\n",
      "13\n",
      "15\n",
      "17\n",
      "19\n",
      "21\n",
      "23\n",
      "25\n",
      "27\n",
      "29\n"
     ]
    }
   ],
   "source": [
    "primo=True\n",
    "for i in range (0,31) :\n",
    "    if i%2==0:\n",
    "      primo=False\n",
    "    if primo :\n",
    "        print(i)\n",
    "    else:\n",
    "       primo=True\n",
    "     "
   ]
  },
  {
   "attachments": {},
   "cell_type": "markdown",
   "metadata": {},
   "source": [
    "10) ¿Se puede mejorar el proceso del punto 9? Utilizar las sentencias break y/ó continue para tal fin"
   ]
  },
  {
   "cell_type": "code",
   "execution_count": 53,
   "metadata": {},
   "outputs": [
    {
     "name": "stdout",
     "output_type": "stream",
     "text": [
      "1\n"
     ]
    }
   ],
   "source": [
    "\n",
    "primo=True\n",
    "for i in range (1,31) :\n",
    "    if i%2==0:\n",
    "      primo=False\n",
    "      break\n",
    "    if primo :\n",
    "     print(i)\n",
    "    else:\n",
    "      primo=True"
   ]
  },
  {
   "attachments": {},
   "cell_type": "markdown",
   "metadata": {},
   "source": [
    "11) En los puntos 9 y 10, se diseño un código que encuentra números primos y además se lo optimizó. ¿Es posible saber en qué medida se optimizó?"
   ]
  },
  {
   "cell_type": "code",
   "execution_count": 57,
   "metadata": {},
   "outputs": [
    {
     "name": "stdout",
     "output_type": "stream",
     "text": [
      "ciclos con break:  870\n"
     ]
    }
   ],
   "source": [
    "ciclos_sin_break=0 #creamos una variable en 0 para que nos cuente la cantidad de ciclos\n",
    "primo=True\n",
    "w=0\n",
    "tope=30\n",
    "while w<tope :#iteramos con while para que cuente la cantidad de ciclos optimizados\n",
    "        for i in range (1,tope) : #iteramos si es o no primo, como en los codigos 9 y 10\n",
    "         ciclos_sin_break+=1 #sumamos el contador de ciclos son break\n",
    "         if i%2==0:\n",
    "          primo=False\n",
    "        if primo :\n",
    "         print(i)\n",
    "        else:\n",
    "         primo=True\n",
    "        w+=1\n",
    "print(\"ciclos con break: \",ciclos_sin_break)\n"
   ]
  },
  {
   "cell_type": "code",
   "execution_count": 60,
   "metadata": {},
   "outputs": [
    {
     "name": "stdout",
     "output_type": "stream",
     "text": [
      "ciclos con break:  30\n"
     ]
    }
   ],
   "source": [
    "ciclos_sin_break=0 \n",
    "primo=True\n",
    "o=0\n",
    "for i in range (1,31) : \n",
    "         ciclos_sin_break+=1 \n",
    "         if i%2==0:\n",
    "          primo=False\n",
    "if primo :\n",
    "         print(i)\n",
    "else:\n",
    "         primo=True\n",
    "print(\"ciclos con break: \",ciclos_sin_break)"
   ]
  },
  {
   "attachments": {},
   "cell_type": "markdown",
   "metadata": {},
   "source": [
    "12) Si la cantidad de números que se evalúa es mayor a treinta, esa optimización crece?"
   ]
  },
  {
   "cell_type": "code",
   "execution_count": 5,
   "metadata": {},
   "outputs": [
    {
     "name": "stdout",
     "output_type": "stream",
     "text": [
      "ciclos con break:  8010\n"
     ]
    }
   ],
   "source": [
    "\n",
    "ciclos_sin_break=0 \n",
    "primo=True\n",
    "o=0\n",
    "tope=90\n",
    "while o<tope :\n",
    "        for i in range (1,tope) : \n",
    "         ciclos_sin_break+=1 \n",
    "         if i%2==0:\n",
    "          primo=False\n",
    "        if primo :\n",
    "         print(i)\n",
    "        else:\n",
    "         primo=True\n",
    "        o+=1\n",
    "print(\"ciclos con break: \",ciclos_sin_break)"
   ]
  },
  {
   "attachments": {},
   "cell_type": "markdown",
   "metadata": {},
   "source": [
    "13) Aplicando continue, armar un ciclo while que solo imprima los valores divisibles por 12, dentro del rango de números de 100 a 300"
   ]
  },
  {
   "cell_type": "code",
   "execution_count": 10,
   "metadata": {},
   "outputs": [
    {
     "name": "stdout",
     "output_type": "stream",
     "text": [
      "El numero  108 es divisible por 12\n",
      "El numero  120 es divisible por 12\n",
      "El numero  132 es divisible por 12\n",
      "El numero  144 es divisible por 12\n",
      "El numero  156 es divisible por 12\n",
      "El numero  168 es divisible por 12\n",
      "El numero  180 es divisible por 12\n",
      "El numero  192 es divisible por 12\n",
      "El numero  204 es divisible por 12\n",
      "El numero  216 es divisible por 12\n",
      "El numero  228 es divisible por 12\n",
      "El numero  240 es divisible por 12\n",
      "El numero  252 es divisible por 12\n",
      "El numero  264 es divisible por 12\n",
      "El numero  276 es divisible por 12\n",
      "El numero  288 es divisible por 12\n",
      "El numero  300 es divisible por 12\n"
     ]
    }
   ],
   "source": [
    "f=99\n",
    "while f<=300 :\n",
    "    f+=1\n",
    "    if f%12==0 :\n",
    "        print(\"El numero \",f, \"es divisible por 12\")\n",
    "    else:\n",
    "        continue\n",
    "    "
   ]
  },
  {
   "attachments": {},
   "cell_type": "markdown",
   "metadata": {},
   "source": [
    "14) Utilizar la función **input()** que permite hacer ingresos por teclado, para encontrar números primos y dar la opción al usario de buscar el siguiente"
   ]
  },
  {
   "cell_type": "code",
   "execution_count": 72,
   "metadata": {},
   "outputs": [
    {
     "name": "stdout",
     "output_type": "stream",
     "text": [
      "3\n",
      "Siguiente numero:\n",
      "El dato ingresado no corresponde a un numero. Se finaliza el proceso\n"
     ]
    }
   ],
   "source": [
    "n=1\n",
    "primo=True\n",
    "for i in range (1,n) :\n",
    "    if n%1==0:\n",
    "      primo=False\n",
    "if primo :\n",
    "       int(input(\"Ingrese un numero:\"))\n",
    "       print(i)\n",
    "       print(\"Siguiente numero:\")\n",
    "       if (input() != type(int)):\n",
    "           print(\"El dato ingresado no corresponde a un numero. Se finaliza el proceso\")\n",
    "else:\n",
    "       primo=True\n",
    "     \n",
    "     "
   ]
  },
  {
   "attachments": {},
   "cell_type": "markdown",
   "metadata": {},
   "source": [
    "15) Crear un ciclo while que encuentre dentro del rango de 100 a 300 el primer número divisible por 3 y además múltiplo de 6"
   ]
  },
  {
   "cell_type": "code",
   "execution_count": 45,
   "metadata": {},
   "outputs": [
    {
     "name": "stdout",
     "output_type": "stream",
     "text": [
      "el primer num es:  102\n"
     ]
    }
   ],
   "source": [
    "k=100\n",
    "while k<=300:\n",
    "    if k%6==0 :\n",
    "        print(\"el primer num es: \",k)\n",
    "        break\n",
    "    k+=1\n"
   ]
  }
 ],
 "metadata": {
  "interpreter": {
   "hash": "c85384e4cb51c8b72350f3a8712cc8351fdc3955e32a27f9b60c6242ab125f01"
  },
  "kernelspec": {
   "display_name": "Python 3 (ipykernel)",
   "language": "python",
   "name": "python3"
  },
  "language_info": {
   "codemirror_mode": {
    "name": "ipython",
    "version": 3
   },
   "file_extension": ".py",
   "mimetype": "text/x-python",
   "name": "python",
   "nbconvert_exporter": "python",
   "pygments_lexer": "ipython3",
   "version": "3.11.3"
  }
 },
 "nbformat": 4,
 "nbformat_minor": 4
}
