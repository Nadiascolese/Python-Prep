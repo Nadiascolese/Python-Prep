{
 "cells": [
  {
   "attachments": {},
   "cell_type": "markdown",
   "metadata": {},
   "source": [
    "## Flujos de Control"
   ]
  },
  {
   "attachments": {},
   "cell_type": "markdown",
   "metadata": {},
   "source": [
    "1) Crear una variable que contenga un elemento del conjunto de números enteros y luego imprimir por pantalla si es mayor o menor a cero"
   ]
  },
  {
   "cell_type": "code",
   "execution_count": 1,
   "metadata": {},
   "outputs": [
    {
     "name": "stdout",
     "output_type": "stream",
     "text": [
      "el nro es mayor a cero\n"
     ]
    }
   ],
   "source": [
    "a=5\n",
    "if a > 0 :\n",
    "    print (\"el nro es mayor a cero\")\n",
    "else :\n",
    "    print(\"el nro el menor a cero\")"
   ]
  },
  {
   "attachments": {},
   "cell_type": "markdown",
   "metadata": {},
   "source": [
    "2) Crear dos variables y un condicional que informe si son del mismo tipo de dato"
   ]
  },
  {
   "cell_type": "code",
   "execution_count": 2,
   "metadata": {},
   "outputs": [
    {
     "name": "stdout",
     "output_type": "stream",
     "text": [
      "los datos son del mismo tipo (numeros)\n"
     ]
    }
   ],
   "source": [
    "a= 2\n",
    "b= 1\n",
    "if type (a) == type (b) :\n",
    "    print (\"los datos son del mismo tipo (numeros)\")\n",
    "else :\n",
    "    print(\"los datos son de diferente tipo\")"
   ]
  },
  {
   "attachments": {},
   "cell_type": "markdown",
   "metadata": {},
   "source": [
    "3) Para los valores enteros del 1 al 20, imprimir por pantalla si es par o impar"
   ]
  },
  {
   "cell_type": "code",
   "execution_count": 7,
   "metadata": {},
   "outputs": [
    {
     "name": "stdout",
     "output_type": "stream",
     "text": [
      "El nro 0 es par\n",
      "El nro 1 es impar\n",
      "El nro 2 es par\n",
      "El nro 3 es impar\n",
      "El nro 4 es par\n",
      "El nro 5 es impar\n",
      "El nro 6 es par\n",
      "El nro 7 es impar\n",
      "El nro 8 es par\n",
      "El nro 9 es impar\n",
      "El nro 10 es par\n",
      "El nro 11 es impar\n",
      "El nro 12 es par\n",
      "El nro 13 es impar\n",
      "El nro 14 es par\n",
      "El nro 15 es impar\n",
      "El nro 16 es par\n",
      "El nro 17 es impar\n",
      "El nro 18 es par\n",
      "El nro 19 es impar\n",
      "El nro 20 es par\n"
     ]
    }
   ],
   "source": [
    "for n in range (0,21) :\n",
    "    if n % 2==0 :\n",
    "        print(\"El nro\",n,\"es par\")\n",
    "    else :\n",
    "        print (\"El nro\",n,\"es impar\")"
   ]
  },
  {
   "attachments": {},
   "cell_type": "markdown",
   "metadata": {},
   "source": [
    "4) En un ciclo for mostrar para los valores entre 0 y 5 el resultado de elevarlo a la potencia igual a 3"
   ]
  },
  {
   "cell_type": "code",
   "execution_count": 8,
   "metadata": {},
   "outputs": [
    {
     "name": "stdout",
     "output_type": "stream",
     "text": [
      "El nro 0 elvado a la potencia 3 es : 0\n",
      "El nro 1 elvado a la potencia 3 es : 1\n",
      "El nro 2 elvado a la potencia 3 es : 8\n",
      "El nro 3 elvado a la potencia 3 es : 27\n",
      "El nro 4 elvado a la potencia 3 es : 64\n",
      "El nro 5 elvado a la potencia 3 es : 125\n"
     ]
    }
   ],
   "source": [
    "for valor in range (0,6):\n",
    "    print(\"El nro\", valor, \"elvado a la potencia 3 es :\" ,valor**3)"
   ]
  },
  {
   "cell_type": "code",
   "execution_count": 9,
   "metadata": {},
   "outputs": [
    {
     "name": "stdout",
     "output_type": "stream",
     "text": [
      "El nro 1 elevado a la tercera potencia es: 1\n",
      "El nro 2 elevado a la tercera potencia es: 8\n",
      "El nro 3 elevado a la tercera potencia es: 27\n",
      "El nro 4 elevado a la tercera potencia es: 64\n",
      "El nro 5 elevado a la tercera potencia es: 125\n",
      "El nro 6 elevado a la tercera potencia es: 216\n",
      "El nro 7 elevado a la tercera potencia es: 343\n",
      "El nro 8 elevado a la tercera potencia es: 512\n",
      "El nro 9 elevado a la tercera potencia es: 729\n"
     ]
    }
   ],
   "source": [
    "for nro in range (1,10):\n",
    "    print(\"El nro\", nro , \"elevado a la tercera potencia es:\" ,nro**3)"
   ]
  },
  {
   "attachments": {},
   "cell_type": "markdown",
   "metadata": {},
   "source": [
    "5) Crear una variable que contenga un número entero y realizar un ciclo for la misma cantidad de ciclos"
   ]
  },
  {
   "cell_type": "code",
   "execution_count": 14,
   "metadata": {},
   "outputs": [
    {
     "name": "stdout",
     "output_type": "stream",
     "text": [
      "ciclo  0\n",
      "ciclo  1\n",
      "ciclo  2\n",
      "ciclo  3\n",
      "ciclo  4\n"
     ]
    }
   ],
   "source": [
    "var=5\n",
    "for var in range (0,var) :\n",
    "    print (\"ciclo \",var)"
   ]
  },
  {
   "attachments": {},
   "cell_type": "markdown",
   "metadata": {},
   "source": [
    "6) Utilizar un ciclo while para realizar el factorial de un número guardado en una variable, sólo si la variable contiene un número entero mayor a 0"
   ]
  },
  {
   "cell_type": "code",
   "execution_count": 14,
   "metadata": {},
   "outputs": [
    {
     "name": "stdout",
     "output_type": "stream",
     "text": [
      "El factorial del numero ingresado es:  720\n"
     ]
    }
   ],
   "source": [
    "n= 6\n",
    "if type (n)==int :\n",
    "    if (n>0) :\n",
    "        factorial= n\n",
    "        while (n> 2) :\n",
    "         n=n-1\n",
    "         factorial= factorial * n\n",
    "        print (\"El factorial del numero ingresado es: \", factorial)\n",
    "    else:\n",
    "       print (\"El numero ingresado no es mayor a cero\")\n",
    "else:\n",
    "   print (\"El numero ingresado no es un entero\")"
   ]
  },
  {
   "attachments": {},
   "cell_type": "markdown",
   "metadata": {},
   "source": [
    "7) Crear un ciclo for dentro de un ciclo while"
   ]
  },
  {
   "cell_type": "code",
   "execution_count": 10,
   "metadata": {},
   "outputs": [
    {
     "name": "stdout",
     "output_type": "stream",
     "text": [
      "Cciclo while nro:  1\n",
      "Ciclo for nro:  1\n",
      "Cciclo while nro:  2\n",
      "Ciclo for nro:  1\n",
      "Ciclo for nro:  2\n",
      "Cciclo while nro:  3\n",
      "Ciclo for nro:  1\n",
      "Ciclo for nro:  2\n",
      "Ciclo for nro:  3\n",
      "Cciclo while nro:  4\n",
      "Ciclo for nro:  1\n",
      "Ciclo for nro:  2\n",
      "Ciclo for nro:  3\n",
      "Ciclo for nro:  4\n",
      "Cciclo while nro:  5\n",
      "Ciclo for nro:  1\n",
      "Ciclo for nro:  2\n",
      "Ciclo for nro:  3\n",
      "Ciclo for nro:  4\n",
      "Ciclo for nro:  5\n"
     ]
    }
   ],
   "source": [
    "n=1\n",
    "while n<6 :     \n",
    "        print(\"Cciclo while nro: \",n)\n",
    "        for i in range ( 1,n+1) :\n",
    "         print(\"Ciclo for nro: \",i)\n",
    "        n+=1"
   ]
  },
  {
   "attachments": {},
   "cell_type": "markdown",
   "metadata": {},
   "source": [
    "8) Crear un ciclo while dentro de un ciclo for"
   ]
  },
  {
   "cell_type": "code",
   "execution_count": 13,
   "metadata": {},
   "outputs": [
    {
     "name": "stdout",
     "output_type": "stream",
     "text": [
      "Ciclo while nro:  6\n",
      "Ciclo for nro:  1\n",
      "Ciclo while nro:  6\n",
      "Ciclo for nro:  2\n",
      "Ciclo while nro:  6\n",
      "Ciclo for nro:  3\n",
      "Ciclo while nro:  6\n",
      "Ciclo for nro:  4\n",
      "Ciclo while nro:  6\n",
      "Ciclo for nro:  5\n"
     ]
    }
   ],
   "source": [
    "n=6\n",
    "for i in range (1,n):\n",
    "    while n<6 :\n",
    "        n-=1\n",
    "    print(\"Ciclo while nro: \", n)\n",
    "    print(\"Ciclo for nro: \",i)"
   ]
  },
  {
   "attachments": {},
   "cell_type": "markdown",
   "metadata": {},
   "source": [
    "9) Imprimir los números primos existentes entre 0 y 30"
   ]
  },
  {
   "cell_type": "code",
   "execution_count": 20,
   "metadata": {},
   "outputs": [
    {
     "name": "stdout",
     "output_type": "stream",
     "text": [
      "0\n",
      "1\n",
      "2\n",
      "3\n",
      "5\n",
      "7\n",
      "11\n",
      "13\n",
      "17\n",
      "19\n",
      "23\n",
      "29\n"
     ]
    }
   ],
   "source": [
    "tope= 30\n",
    "n=0\n",
    "primo=True\n",
    "while (n < tope) : #mientras n sea menos al tope de 30...\n",
    "    for chanchi in range (2,n): #para el rango entre dos y n...\n",
    "        if (n % chanchi ==0):##si dividimos n por ele elemento y nos da 0 no es primo\n",
    "            primo= False\n",
    "    if (primo) :\n",
    "            print (n)\n",
    "    else:\n",
    "         primo=True\n",
    "    n+=1 \n"
   ]
  },
  {
   "attachments": {},
   "cell_type": "markdown",
   "metadata": {},
   "source": [
    "10) ¿Se puede mejorar el proceso del punto 9? Utilizar las sentencias break y/ó continue para tal fin"
   ]
  },
  {
   "cell_type": "code",
   "execution_count": 21,
   "metadata": {},
   "outputs": [
    {
     "name": "stdout",
     "output_type": "stream",
     "text": [
      "0\n",
      "1\n",
      "2\n",
      "3\n",
      "5\n",
      "7\n",
      "11\n",
      "13\n",
      "17\n",
      "19\n",
      "23\n",
      "29\n"
     ]
    }
   ],
   "source": [
    "tope= 30\n",
    "n=0\n",
    "primo=True\n",
    "while (n < tope) :\n",
    "    for chanchi in range (2,n):\n",
    "        if (n % chanchi ==0):\n",
    "            primo= False\n",
    "            break\n",
    "    if (primo) :\n",
    "            print (n)\n",
    "    else:\n",
    "         primo=True\n",
    "    n+=1 \n"
   ]
  },
  {
   "attachments": {},
   "cell_type": "markdown",
   "metadata": {},
   "source": [
    "11) En los puntos 9 y 10, se diseño un código que encuentra números primos y además se lo optimizó. ¿Es posible saber en qué medida se optimizó?"
   ]
  },
  {
   "cell_type": "code",
   "execution_count": 23,
   "metadata": {},
   "outputs": [
    {
     "name": "stdout",
     "output_type": "stream",
     "text": [
      "0\n",
      "1\n",
      "2\n",
      "3\n",
      "5\n",
      "7\n",
      "11\n",
      "13\n",
      "17\n",
      "19\n",
      "23\n",
      "29\n",
      "cantidad de ciclos:  378\n"
     ]
    }
   ],
   "source": [
    "ciclos_con_break=0\n",
    "tope= 30\n",
    "n=0\n",
    "primo=True\n",
    "while (n < tope) :\n",
    "    for chanchi in range (2,n): \n",
    "        ciclos_con_break+=1\n",
    "        if (n % chanchi ==0):\n",
    "            primo= False\n",
    "    if (primo) :\n",
    "            print (n)\n",
    "    else:\n",
    "         primo=True\n",
    "    n+=1 \n",
    "print(\"cantidad de ciclos: \", ciclos_con_break )\n",
    "  \n"
   ]
  },
  {
   "attachments": {},
   "cell_type": "markdown",
   "metadata": {},
   "source": [
    "12) Si la cantidad de números que se evalúa es mayor a treinta, esa optimización crece?"
   ]
  },
  {
   "cell_type": "code",
   "execution_count": 25,
   "metadata": {},
   "outputs": [
    {
     "name": "stdout",
     "output_type": "stream",
     "text": [
      "0\n",
      "1\n",
      "2\n",
      "3\n",
      "5\n",
      "7\n",
      "11\n",
      "13\n",
      "17\n",
      "19\n",
      "23\n",
      "29\n",
      "31\n",
      "37\n",
      "41\n",
      "43\n",
      "47\n",
      "cantidad de ciclos:  1128\n"
     ]
    }
   ],
   "source": [
    "ciclos_con_break=0\n",
    "tope= 50\n",
    "n=0\n",
    "primo=True\n",
    "while (n < tope) :\n",
    "    for chanchi in range (2,n): \n",
    "        ciclos_con_break+=1\n",
    "        if (n % chanchi ==0):\n",
    "            primo= False\n",
    "    if (primo) :\n",
    "            print (n)\n",
    "    else:\n",
    "         primo=True\n",
    "    n+=1 \n",
    "print(\"cantidad de ciclos: \", ciclos_con_break )\n",
    "#la cantidad de ciclos crece a 1128 con un tope de 50"
   ]
  },
  {
   "attachments": {},
   "cell_type": "markdown",
   "metadata": {},
   "source": [
    "13) Aplicando continue, armar un ciclo while que solo imprima los valores divisibles por 12, dentro del rango de números de 100 a 300"
   ]
  },
  {
   "cell_type": "code",
   "execution_count": null,
   "metadata": {},
   "outputs": [],
   "source": []
  },
  {
   "attachments": {},
   "cell_type": "markdown",
   "metadata": {},
   "source": [
    "14) Utilizar la función **input()** que permite hacer ingresos por teclado, para encontrar números primos y dar la opción al usario de buscar el siguiente"
   ]
  },
  {
   "cell_type": "code",
   "execution_count": null,
   "metadata": {},
   "outputs": [],
   "source": []
  },
  {
   "attachments": {},
   "cell_type": "markdown",
   "metadata": {},
   "source": [
    "15) Crear un ciclo while que encuentre dentro del rango de 100 a 300 el primer número divisible por 3 y además múltiplo de 6"
   ]
  },
  {
   "cell_type": "code",
   "execution_count": null,
   "metadata": {},
   "outputs": [],
   "source": []
  }
 ],
 "metadata": {
  "interpreter": {
   "hash": "c85384e4cb51c8b72350f3a8712cc8351fdc3955e32a27f9b60c6242ab125f01"
  },
  "kernelspec": {
   "display_name": "Python 3 (ipykernel)",
   "language": "python",
   "name": "python3"
  },
  "language_info": {
   "codemirror_mode": {
    "name": "ipython",
    "version": 3
   },
   "file_extension": ".py",
   "mimetype": "text/x-python",
   "name": "python",
   "nbconvert_exporter": "python",
   "pygments_lexer": "ipython3",
   "version": "3.11.3"
  }
 },
 "nbformat": 4,
 "nbformat_minor": 4
}
