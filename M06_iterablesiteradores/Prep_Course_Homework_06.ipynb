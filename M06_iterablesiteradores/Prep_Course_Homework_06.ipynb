{
 "cells": [
  {
   "attachments": {},
   "cell_type": "markdown",
   "metadata": {},
   "source": [
    "## Iteradores e iterables"
   ]
  },
  {
   "attachments": {},
   "cell_type": "markdown",
   "metadata": {},
   "source": [
    "1) A partir de una lista vacía, utilizar un ciclo while para cargar allí números negativos del -15 al -1"
   ]
  },
  {
   "cell_type": "code",
   "execution_count": 1,
   "metadata": {},
   "outputs": [
    {
     "name": "stdout",
     "output_type": "stream",
     "text": [
      "[-15]\n",
      "[-15, -14]\n",
      "[-15, -14, -13]\n",
      "[-15, -14, -13, -12]\n",
      "[-15, -14, -13, -12, -11]\n",
      "[-15, -14, -13, -12, -11, -10]\n",
      "[-15, -14, -13, -12, -11, -10, -9]\n",
      "[-15, -14, -13, -12, -11, -10, -9, -8]\n",
      "[-15, -14, -13, -12, -11, -10, -9, -8, -7]\n",
      "[-15, -14, -13, -12, -11, -10, -9, -8, -7, -6]\n",
      "[-15, -14, -13, -12, -11, -10, -9, -8, -7, -6, -5]\n",
      "[-15, -14, -13, -12, -11, -10, -9, -8, -7, -6, -5, -4]\n",
      "[-15, -14, -13, -12, -11, -10, -9, -8, -7, -6, -5, -4, -3]\n",
      "[-15, -14, -13, -12, -11, -10, -9, -8, -7, -6, -5, -4, -3, -2]\n",
      "[-15, -14, -13, -12, -11, -10, -9, -8, -7, -6, -5, -4, -3, -2, -1]\n"
     ]
    }
   ],
   "source": [
    "lista=[] #creamos una lista vacia donde guardar los datos\n",
    "n=-15\n",
    "while (n)<0: #mienrtras que n sea menor a 0... apendamos los datos de n a la lista que creamos\n",
    "    lista.append(n)\n",
    "    n+=1 \n",
    "    print(lista)\n",
    "\n"
   ]
  },
  {
   "attachments": {},
   "cell_type": "markdown",
   "metadata": {},
   "source": [
    "2) ¿Con un ciclo while sería posible recorrer la lista para imprimir sólo los números pares?"
   ]
  },
  {
   "cell_type": "code",
   "execution_count": 3,
   "metadata": {},
   "outputs": [
    {
     "ename": "TypeError",
     "evalue": "'list' object is not callable",
     "output_type": "error",
     "traceback": [
      "\u001b[1;31m---------------------------------------------------------------------------\u001b[0m",
      "\u001b[1;31mTypeError\u001b[0m                                 Traceback (most recent call last)",
      "\u001b[1;32mc:\\Users\\naysc\\OneDrive\\Escritorio\\henry\\Python-Prep\\M06_iterablesiteradores\\Prep_Course_Homework_06.ipynb Cell 5\u001b[0m line \u001b[0;36m3\n\u001b[0;32m      <a href='vscode-notebook-cell:/c%3A/Users/naysc/OneDrive/Escritorio/henry/Python-Prep/M06_iterablesiteradores/Prep_Course_Homework_06.ipynb#W4sZmlsZQ%3D%3D?line=0'>1</a>\u001b[0m n\u001b[39m=\u001b[39m\u001b[39m0\u001b[39m\n\u001b[0;32m      <a href='vscode-notebook-cell:/c%3A/Users/naysc/OneDrive/Escritorio/henry/Python-Prep/M06_iterablesiteradores/Prep_Course_Homework_06.ipynb#W4sZmlsZQ%3D%3D?line=1'>2</a>\u001b[0m \u001b[39mwhile\u001b[39;00m n \u001b[39m<\u001b[39m \u001b[39mlen\u001b[39m(lista) :\n\u001b[1;32m----> <a href='vscode-notebook-cell:/c%3A/Users/naysc/OneDrive/Escritorio/henry/Python-Prep/M06_iterablesiteradores/Prep_Course_Homework_06.ipynb#W4sZmlsZQ%3D%3D?line=2'>3</a>\u001b[0m     \u001b[39mif\u001b[39;00m lista(n)\u001b[39m%\u001b[39m\u001b[39m2\u001b[39m \u001b[39m==\u001b[39m\u001b[39m0\u001b[39m :\u001b[39m#???????????????????\u001b[39;00m\n\u001b[0;32m      <a href='vscode-notebook-cell:/c%3A/Users/naysc/OneDrive/Escritorio/henry/Python-Prep/M06_iterablesiteradores/Prep_Course_Homework_06.ipynb#W4sZmlsZQ%3D%3D?line=3'>4</a>\u001b[0m         \u001b[39mprint\u001b[39m (lista(n))\n\u001b[0;32m      <a href='vscode-notebook-cell:/c%3A/Users/naysc/OneDrive/Escritorio/henry/Python-Prep/M06_iterablesiteradores/Prep_Course_Homework_06.ipynb#W4sZmlsZQ%3D%3D?line=4'>5</a>\u001b[0m     n\u001b[39m+\u001b[39m\u001b[39m=\u001b[39m\u001b[39m1\u001b[39m\n",
      "\u001b[1;31mTypeError\u001b[0m: 'list' object is not callable"
     ]
    }
   ],
   "source": [
    "n=0\n",
    "while n < len(lista) :\n",
    "    if lista(n)%2 ==0 :#???????????????????\n",
    "        print (lista(n))\n",
    "    n+=1"
   ]
  },
  {
   "attachments": {},
   "cell_type": "markdown",
   "metadata": {},
   "source": [
    "3) Resolver el punto anterior sin utilizar un ciclo while"
   ]
  },
  {
   "cell_type": "code",
   "execution_count": 4,
   "metadata": {},
   "outputs": [
    {
     "name": "stdout",
     "output_type": "stream",
     "text": [
      "-14\n",
      "-12\n",
      "-10\n",
      "-8\n",
      "-6\n",
      "-4\n",
      "-2\n"
     ]
    }
   ],
   "source": [
    "for n in lista : #por cada elemento en nuestra lista...\n",
    "    if n%2==0:#calculamos\n",
    "        print(n)"
   ]
  },
  {
   "attachments": {},
   "cell_type": "markdown",
   "metadata": {},
   "source": [
    "4) Utilizar el iterable para recorrer sólo los primeros 3 elementos"
   ]
  },
  {
   "cell_type": "code",
   "execution_count": 5,
   "metadata": {},
   "outputs": [
    {
     "name": "stdout",
     "output_type": "stream",
     "text": [
      "Los primeros tres elementos de la lista son:  [-15, -14, -13, -12, -11, -10, -9, -8, -7, -6, -5, -4, -3, -2, -1]\n",
      "Los primeros tres elementos de la lista son:  [-15, -14, -13, -12, -11, -10, -9, -8, -7, -6, -5, -4, -3, -2, -1]\n",
      "Los primeros tres elementos de la lista son:  [-15, -14, -13, -12, -11, -10, -9, -8, -7, -6, -5, -4, -3, -2, -1]\n"
     ]
    }
   ],
   "source": [
    "for n in lista [0:3] :\n",
    "    print(\"Los primeros tres elementos de la lista son: \",lista)"
   ]
  },
  {
   "cell_type": "code",
   "execution_count": 6,
   "metadata": {},
   "outputs": [
    {
     "name": "stdout",
     "output_type": "stream",
     "text": [
      "Los primeros cinco elementos de la lista son:  [-15, -14, -13, -12, -11, -10, -9, -8, -7, -6, -5, -4, -3, -2, -1]\n",
      "Los primeros cinco elementos de la lista son:  [-15, -14, -13, -12, -11, -10, -9, -8, -7, -6, -5, -4, -3, -2, -1]\n",
      "Los primeros cinco elementos de la lista son:  [-15, -14, -13, -12, -11, -10, -9, -8, -7, -6, -5, -4, -3, -2, -1]\n",
      "Los primeros cinco elementos de la lista son:  [-15, -14, -13, -12, -11, -10, -9, -8, -7, -6, -5, -4, -3, -2, -1]\n",
      "Los primeros cinco elementos de la lista son:  [-15, -14, -13, -12, -11, -10, -9, -8, -7, -6, -5, -4, -3, -2, -1]\n"
     ]
    }
   ],
   "source": [
    "for n in lista [0:5] :\n",
    "    print(\"Los primeros cinco elementos de la lista son: \",lista)"
   ]
  },
  {
   "attachments": {},
   "cell_type": "markdown",
   "metadata": {},
   "source": [
    "5) Utilizar la función **enumerate** para obtener dentro del iterable, tambien el índice al que corresponde el elemento"
   ]
  },
  {
   "cell_type": "code",
   "execution_count": 7,
   "metadata": {},
   "outputs": [
    {
     "name": "stdout",
     "output_type": "stream",
     "text": [
      "(0, -15)\n",
      "(1, -14)\n",
      "(2, -13)\n",
      "(3, -12)\n",
      "(4, -11)\n",
      "(5, -10)\n",
      "(6, -9)\n",
      "(7, -8)\n",
      "(8, -7)\n",
      "(9, -6)\n",
      "(10, -5)\n",
      "(11, -4)\n",
      "(12, -3)\n",
      "(13, -2)\n",
      "(14, -1)\n"
     ]
    }
   ],
   "source": [
    "for n in enumerate(lista) :\n",
    "    print(n)"
   ]
  },
  {
   "attachments": {},
   "cell_type": "markdown",
   "metadata": {},
   "source": [
    "6) Dada la siguiente lista de números enteros entre 1 y 20, crear un ciclo donde se completen los valores faltantes: lista = [1,2,5,7,8,10,13,14,15,17,20]"
   ]
  },
  {
   "cell_type": "code",
   "execution_count": 8,
   "metadata": {},
   "outputs": [],
   "source": [
    "lista_incompleta=[1,2,5,7,8,10,13,14,15,17,20]\n",
    "\n"
   ]
  },
  {
   "cell_type": "code",
   "execution_count": 9,
   "metadata": {},
   "outputs": [
    {
     "name": "stdout",
     "output_type": "stream",
     "text": [
      "[1, 2, 5, 7, 8, 10, 13, 14, 15, 17, 20]\n",
      "[1, 2, 5, 7, 8, 10, 13, 14, 15, 17, 20]\n",
      "[1, 2, 3, 5, 7, 8, 10, 13, 14, 15, 17, 20]\n",
      "[1, 2, 3, 4, 5, 7, 8, 10, 13, 14, 15, 17, 20]\n",
      "[1, 2, 3, 4, 5, 7, 8, 10, 13, 14, 15, 17, 20]\n",
      "[1, 2, 3, 4, 5, 6, 7, 8, 10, 13, 14, 15, 17, 20]\n",
      "[1, 2, 3, 4, 5, 6, 7, 8, 10, 13, 14, 15, 17, 20]\n",
      "[1, 2, 3, 4, 5, 6, 7, 8, 10, 13, 14, 15, 17, 20]\n",
      "[1, 2, 3, 4, 5, 6, 7, 8, 9, 10, 13, 14, 15, 17, 20]\n",
      "[1, 2, 3, 4, 5, 6, 7, 8, 9, 10, 13, 14, 15, 17, 20]\n",
      "[1, 2, 3, 4, 5, 6, 7, 8, 9, 10, 11, 13, 14, 15, 17, 20]\n",
      "[1, 2, 3, 4, 5, 6, 7, 8, 9, 10, 11, 12, 13, 14, 15, 17, 20]\n",
      "[1, 2, 3, 4, 5, 6, 7, 8, 9, 10, 11, 12, 13, 14, 15, 17, 20]\n",
      "[1, 2, 3, 4, 5, 6, 7, 8, 9, 10, 11, 12, 13, 14, 15, 17, 20]\n",
      "[1, 2, 3, 4, 5, 6, 7, 8, 9, 10, 11, 12, 13, 14, 15, 17, 20]\n",
      "[1, 2, 3, 4, 5, 6, 7, 8, 9, 10, 11, 12, 13, 14, 15, 16, 17, 20]\n",
      "[1, 2, 3, 4, 5, 6, 7, 8, 9, 10, 11, 12, 13, 14, 15, 16, 17, 20]\n",
      "[1, 2, 3, 4, 5, 6, 7, 8, 9, 10, 11, 12, 13, 14, 15, 16, 17, 18, 20]\n",
      "[1, 2, 3, 4, 5, 6, 7, 8, 9, 10, 11, 12, 13, 14, 15, 16, 17, 18, 19, 20]\n",
      "[1, 2, 3, 4, 5, 6, 7, 8, 9, 10, 11, 12, 13, 14, 15, 16, 17, 18, 19, 20]\n"
     ]
    }
   ],
   "source": [
    "n=1\n",
    "while n <= 20 :\n",
    "    if not (n in lista_incompleta):\n",
    "     lista_incompleta. insert(n-1,n)\n",
    "    n+=1\n",
    "    print(lista_incompleta)"
   ]
  },
  {
   "attachments": {},
   "cell_type": "markdown",
   "metadata": {},
   "source": [
    "7) La sucesión de Fibonacci es un listado de números que sigue la fórmula: <br>\n",
    "n<sub>0</sub> = 0<br>\n",
    "n<sub>1</sub> = 1<br>\n",
    "n<sub>i</sub> = n<sub>i-1</sub> + n<sub>i-2</sub><br>\n",
    "Crear una lista con los primeros treinta números de la sucesión.<br>"
   ]
  },
  {
   "cell_type": "code",
   "execution_count": 10,
   "metadata": {},
   "outputs": [
    {
     "name": "stdout",
     "output_type": "stream",
     "text": [
      "Los primeros 30 nros de la sucesion fibonacci son:  [0, 1, 1]\n",
      "Los primeros 30 nros de la sucesion fibonacci son:  [0, 1, 1, 2]\n",
      "Los primeros 30 nros de la sucesion fibonacci son:  [0, 1, 1, 2, 3]\n",
      "Los primeros 30 nros de la sucesion fibonacci son:  [0, 1, 1, 2, 3, 5]\n",
      "Los primeros 30 nros de la sucesion fibonacci son:  [0, 1, 1, 2, 3, 5, 8]\n",
      "Los primeros 30 nros de la sucesion fibonacci son:  [0, 1, 1, 2, 3, 5, 8, 13]\n",
      "Los primeros 30 nros de la sucesion fibonacci son:  [0, 1, 1, 2, 3, 5, 8, 13, 21]\n",
      "Los primeros 30 nros de la sucesion fibonacci son:  [0, 1, 1, 2, 3, 5, 8, 13, 21, 34]\n",
      "Los primeros 30 nros de la sucesion fibonacci son:  [0, 1, 1, 2, 3, 5, 8, 13, 21, 34, 55]\n",
      "Los primeros 30 nros de la sucesion fibonacci son:  [0, 1, 1, 2, 3, 5, 8, 13, 21, 34, 55, 89]\n",
      "Los primeros 30 nros de la sucesion fibonacci son:  [0, 1, 1, 2, 3, 5, 8, 13, 21, 34, 55, 89, 144]\n",
      "Los primeros 30 nros de la sucesion fibonacci son:  [0, 1, 1, 2, 3, 5, 8, 13, 21, 34, 55, 89, 144, 233]\n",
      "Los primeros 30 nros de la sucesion fibonacci son:  [0, 1, 1, 2, 3, 5, 8, 13, 21, 34, 55, 89, 144, 233, 377]\n",
      "Los primeros 30 nros de la sucesion fibonacci son:  [0, 1, 1, 2, 3, 5, 8, 13, 21, 34, 55, 89, 144, 233, 377, 610]\n",
      "Los primeros 30 nros de la sucesion fibonacci son:  [0, 1, 1, 2, 3, 5, 8, 13, 21, 34, 55, 89, 144, 233, 377, 610, 987]\n",
      "Los primeros 30 nros de la sucesion fibonacci son:  [0, 1, 1, 2, 3, 5, 8, 13, 21, 34, 55, 89, 144, 233, 377, 610, 987, 1597]\n",
      "Los primeros 30 nros de la sucesion fibonacci son:  [0, 1, 1, 2, 3, 5, 8, 13, 21, 34, 55, 89, 144, 233, 377, 610, 987, 1597, 2584]\n",
      "Los primeros 30 nros de la sucesion fibonacci son:  [0, 1, 1, 2, 3, 5, 8, 13, 21, 34, 55, 89, 144, 233, 377, 610, 987, 1597, 2584, 4181]\n",
      "Los primeros 30 nros de la sucesion fibonacci son:  [0, 1, 1, 2, 3, 5, 8, 13, 21, 34, 55, 89, 144, 233, 377, 610, 987, 1597, 2584, 4181, 6765]\n",
      "Los primeros 30 nros de la sucesion fibonacci son:  [0, 1, 1, 2, 3, 5, 8, 13, 21, 34, 55, 89, 144, 233, 377, 610, 987, 1597, 2584, 4181, 6765, 10946]\n",
      "Los primeros 30 nros de la sucesion fibonacci son:  [0, 1, 1, 2, 3, 5, 8, 13, 21, 34, 55, 89, 144, 233, 377, 610, 987, 1597, 2584, 4181, 6765, 10946, 17711]\n",
      "Los primeros 30 nros de la sucesion fibonacci son:  [0, 1, 1, 2, 3, 5, 8, 13, 21, 34, 55, 89, 144, 233, 377, 610, 987, 1597, 2584, 4181, 6765, 10946, 17711, 28657]\n",
      "Los primeros 30 nros de la sucesion fibonacci son:  [0, 1, 1, 2, 3, 5, 8, 13, 21, 34, 55, 89, 144, 233, 377, 610, 987, 1597, 2584, 4181, 6765, 10946, 17711, 28657, 46368]\n",
      "Los primeros 30 nros de la sucesion fibonacci son:  [0, 1, 1, 2, 3, 5, 8, 13, 21, 34, 55, 89, 144, 233, 377, 610, 987, 1597, 2584, 4181, 6765, 10946, 17711, 28657, 46368, 75025]\n",
      "Los primeros 30 nros de la sucesion fibonacci son:  [0, 1, 1, 2, 3, 5, 8, 13, 21, 34, 55, 89, 144, 233, 377, 610, 987, 1597, 2584, 4181, 6765, 10946, 17711, 28657, 46368, 75025, 121393]\n",
      "Los primeros 30 nros de la sucesion fibonacci son:  [0, 1, 1, 2, 3, 5, 8, 13, 21, 34, 55, 89, 144, 233, 377, 610, 987, 1597, 2584, 4181, 6765, 10946, 17711, 28657, 46368, 75025, 121393, 196418]\n",
      "Los primeros 30 nros de la sucesion fibonacci son:  [0, 1, 1, 2, 3, 5, 8, 13, 21, 34, 55, 89, 144, 233, 377, 610, 987, 1597, 2584, 4181, 6765, 10946, 17711, 28657, 46368, 75025, 121393, 196418, 317811]\n",
      "Los primeros 30 nros de la sucesion fibonacci son:  [0, 1, 1, 2, 3, 5, 8, 13, 21, 34, 55, 89, 144, 233, 377, 610, 987, 1597, 2584, 4181, 6765, 10946, 17711, 28657, 46368, 75025, 121393, 196418, 317811, 514229]\n"
     ]
    }
   ],
   "source": [
    "fibo=[0,1] #arrancamos con los orimeros dos numeros de fibo\n",
    "n=2 #n le damos el valor de 2 ya que es el numero que sigue despues del 1 en fibo\n",
    "while n<30 :\n",
    "    fibo.append (fibo [n-1]+ fibo [n-2]) #appendamos fibo y n-1, que es 1 y n-2 que es 0\n",
    "    n+=1\n",
    "    print(\"Los primeros 30 nros de la sucesion fibonacci son: \", fibo)\n",
    "\n"
   ]
  },
  {
   "cell_type": "code",
   "execution_count": 11,
   "metadata": {},
   "outputs": [
    {
     "name": "stdout",
     "output_type": "stream",
     "text": [
      "[0, 1, 1]\n",
      "[0, 1, 1, 2]\n",
      "[0, 1, 1, 2, 3]\n",
      "[0, 1, 1, 2, 3, 5]\n",
      "[0, 1, 1, 2, 3, 5, 8]\n",
      "[0, 1, 1, 2, 3, 5, 8, 13]\n",
      "[0, 1, 1, 2, 3, 5, 8, 13, 21]\n",
      "[0, 1, 1, 2, 3, 5, 8, 13, 21, 34]\n",
      "[0, 1, 1, 2, 3, 5, 8, 13, 21, 34, 55]\n",
      "[0, 1, 1, 2, 3, 5, 8, 13, 21, 34, 55, 89]\n",
      "[0, 1, 1, 2, 3, 5, 8, 13, 21, 34, 55, 89, 144]\n",
      "[0, 1, 1, 2, 3, 5, 8, 13, 21, 34, 55, 89, 144, 233]\n",
      "[0, 1, 1, 2, 3, 5, 8, 13, 21, 34, 55, 89, 144, 233, 377]\n",
      "[0, 1, 1, 2, 3, 5, 8, 13, 21, 34, 55, 89, 144, 233, 377, 610]\n",
      "[0, 1, 1, 2, 3, 5, 8, 13, 21, 34, 55, 89, 144, 233, 377, 610, 987]\n",
      "[0, 1, 1, 2, 3, 5, 8, 13, 21, 34, 55, 89, 144, 233, 377, 610, 987, 1597]\n",
      "[0, 1, 1, 2, 3, 5, 8, 13, 21, 34, 55, 89, 144, 233, 377, 610, 987, 1597, 2584]\n",
      "[0, 1, 1, 2, 3, 5, 8, 13, 21, 34, 55, 89, 144, 233, 377, 610, 987, 1597, 2584, 4181]\n",
      "[0, 1, 1, 2, 3, 5, 8, 13, 21, 34, 55, 89, 144, 233, 377, 610, 987, 1597, 2584, 4181, 6765]\n",
      "[0, 1, 1, 2, 3, 5, 8, 13, 21, 34, 55, 89, 144, 233, 377, 610, 987, 1597, 2584, 4181, 6765, 10946]\n",
      "[0, 1, 1, 2, 3, 5, 8, 13, 21, 34, 55, 89, 144, 233, 377, 610, 987, 1597, 2584, 4181, 6765, 10946, 17711]\n",
      "[0, 1, 1, 2, 3, 5, 8, 13, 21, 34, 55, 89, 144, 233, 377, 610, 987, 1597, 2584, 4181, 6765, 10946, 17711, 28657]\n",
      "[0, 1, 1, 2, 3, 5, 8, 13, 21, 34, 55, 89, 144, 233, 377, 610, 987, 1597, 2584, 4181, 6765, 10946, 17711, 28657, 46368]\n",
      "[0, 1, 1, 2, 3, 5, 8, 13, 21, 34, 55, 89, 144, 233, 377, 610, 987, 1597, 2584, 4181, 6765, 10946, 17711, 28657, 46368, 75025]\n",
      "[0, 1, 1, 2, 3, 5, 8, 13, 21, 34, 55, 89, 144, 233, 377, 610, 987, 1597, 2584, 4181, 6765, 10946, 17711, 28657, 46368, 75025, 121393]\n",
      "[0, 1, 1, 2, 3, 5, 8, 13, 21, 34, 55, 89, 144, 233, 377, 610, 987, 1597, 2584, 4181, 6765, 10946, 17711, 28657, 46368, 75025, 121393, 196418]\n",
      "[0, 1, 1, 2, 3, 5, 8, 13, 21, 34, 55, 89, 144, 233, 377, 610, 987, 1597, 2584, 4181, 6765, 10946, 17711, 28657, 46368, 75025, 121393, 196418, 317811]\n",
      "[0, 1, 1, 2, 3, 5, 8, 13, 21, 34, 55, 89, 144, 233, 377, 610, 987, 1597, 2584, 4181, 6765, 10946, 17711, 28657, 46368, 75025, 121393, 196418, 317811, 514229]\n"
     ]
    }
   ],
   "source": [
    "fibo2=[0,1]\n",
    "for i in range (2,30):\n",
    "    fibo2.append (fibo2[i-1]+ fibo2[i-2])\n",
    "    print(fibo2)"
   ]
  },
  {
   "attachments": {},
   "cell_type": "markdown",
   "metadata": {},
   "source": [
    "8) Realizar la suma de todos elementos de la lista del punto anterior"
   ]
  },
  {
   "cell_type": "code",
   "execution_count": 12,
   "metadata": {},
   "outputs": [
    {
     "data": {
      "text/plain": [
       "1346268"
      ]
     },
     "execution_count": 12,
     "metadata": {},
     "output_type": "execute_result"
    }
   ],
   "source": [
    "sum(fibo2)"
   ]
  },
  {
   "attachments": {},
   "cell_type": "markdown",
   "metadata": {},
   "source": [
    "9) La proporción aurea se expresa con una proporción matemática que nace el número irracional Phi= 1,618… que los griegos llamaron número áureo. El cuál se puede aproximar con la sucesión de Fibonacci. Con la lista del ejercicio anterior, imprimir el cociente de los últimos 5 pares de dos números contiguos:<br>\n",
    "Donde i es la cantidad total de elementos<br>\n",
    "n<sub>i-1</sub> / n<sub>i</sub><br>\n",
    "n<sub>i-2</sub> / n<sub>i-1</sub><br>\n",
    "n<sub>i-3</sub> / n<sub>i-2</sub><br>\n",
    "n<sub>i-4</sub> / n<sub>i-3</sub><br>\n",
    "n<sub>i-5</sub> / n<sub>i-4</sub><br>\n",
    " "
   ]
  },
  {
   "cell_type": "code",
   "execution_count": 13,
   "metadata": {},
   "outputs": [
    {
     "data": {
      "text/plain": [
       "1.6180339887543225"
      ]
     },
     "execution_count": 13,
     "metadata": {},
     "output_type": "execute_result"
    }
   ],
   "source": [
    "ultimo= fibo[-1] #de esta manera llamamos al ultimo numero de la lista conn el -1. y con el -2 al anteultimo \n",
    "anterior=fibo[-2]\n",
    "ultimo/anterior\n",
    "\n",
    "\n"
   ]
  },
  {
   "cell_type": "code",
   "execution_count": 14,
   "metadata": {},
   "outputs": [
    {
     "data": {
      "text/plain": [
       "30"
      ]
     },
     "execution_count": 14,
     "metadata": {},
     "output_type": "execute_result"
    }
   ],
   "source": [
    "len(fibo) "
   ]
  },
  {
   "cell_type": "code",
   "execution_count": 18,
   "metadata": {},
   "outputs": [
    {
     "name": "stdout",
     "output_type": "stream",
     "text": [
      "1.6180339887543225\n",
      "1.618033988738303\n"
     ]
    }
   ],
   "source": [
    "n=len(fibo)-1\n",
    "tope= n-2\n",
    "while n>tope :\n",
    "    cociente= fibo[n]/fibo[n-1]\n",
    "    print(cociente)\n",
    "    n-=1"
   ]
  },
  {
   "attachments": {},
   "cell_type": "markdown",
   "metadata": {},
   "source": [
    "10) A partir de la variable cadena ya dada, mostrar en qué posiciones aparece la letra \"n\"<br>\n",
    "cadena = 'Hola Mundo. Esto es una practica del lenguaje de programación Python'"
   ]
  },
  {
   "cell_type": "code",
   "execution_count": 26,
   "metadata": {},
   "outputs": [
    {
     "name": "stdout",
     "output_type": "stream",
     "text": [
      "La letra n esta en la posicion: 7 de la variable\n",
      "La letra n esta en la posicion: 20 de la variable\n",
      "La letra n esta en la posicion: 38 de la variable\n",
      "La letra n esta en la posicion: 59 de la variable\n",
      "La letra n esta en la posicion: 66 de la variable\n"
     ]
    }
   ],
   "source": [
    "cadena=\"Hola mundo.Esto es una practica del lenguaje de programacion python\"\n",
    "for i, n in enumerate (cadena):\n",
    "    if n ==\"n\":\n",
    "     print(\"La letra\", n,\"esta en la posicion:\",i ,\"de la variable\" )"
   ]
  },
  {
   "attachments": {},
   "cell_type": "markdown",
   "metadata": {},
   "source": [
    "11) Crear un diccionario e imprimir sus claves utilizando un iterador"
   ]
  },
  {
   "cell_type": "code",
   "execution_count": 27,
   "metadata": {},
   "outputs": [],
   "source": [
    "dicc= {\n",
    "    \"chanchitos\":[\"Parki\", \"Wody\"],\n",
    "    \"edades\": [2,3],\n",
    "    \"comida_preferida\": [\"salchichitas\", \"todo\"]\n",
    "}"
   ]
  },
  {
   "cell_type": "code",
   "execution_count": 28,
   "metadata": {},
   "outputs": [
    {
     "name": "stdout",
     "output_type": "stream",
     "text": [
      "El diccionario creado es:  chanchitos\n",
      "El diccionario creado es:  edades\n",
      "El diccionario creado es:  comida_preferida\n"
     ]
    }
   ],
   "source": [
    "for i in dicc :\n",
    "    print(\"El diccionario creado es: \",i)"
   ]
  },
  {
   "attachments": {},
   "cell_type": "markdown",
   "metadata": {},
   "source": [
    "12) Convertir en una lista la variable \"cadena\" del punto 10 y luego recorrerla con un iterador "
   ]
  },
  {
   "cell_type": "code",
   "execution_count": 30,
   "metadata": {},
   "outputs": [],
   "source": [
    "cadena=list(cadena)"
   ]
  },
  {
   "cell_type": "code",
   "execution_count": 31,
   "metadata": {},
   "outputs": [
    {
     "data": {
      "text/plain": [
       "list"
      ]
     },
     "execution_count": 31,
     "metadata": {},
     "output_type": "execute_result"
    }
   ],
   "source": [
    "type (cadena)"
   ]
  },
  {
   "cell_type": "code",
   "execution_count": 32,
   "metadata": {},
   "outputs": [
    {
     "name": "stdout",
     "output_type": "stream",
     "text": [
      "H\n",
      "o\n",
      "l\n",
      "a\n",
      " \n",
      "m\n",
      "u\n",
      "n\n",
      "d\n",
      "o\n",
      ".\n",
      "E\n",
      "s\n",
      "t\n",
      "o\n",
      " \n",
      "e\n",
      "s\n",
      " \n",
      "u\n",
      "n\n",
      "a\n",
      " \n",
      "p\n",
      "r\n",
      "a\n",
      "c\n",
      "t\n",
      "i\n",
      "c\n",
      "a\n",
      " \n",
      "d\n",
      "e\n",
      "l\n",
      " \n",
      "l\n",
      "e\n",
      "n\n",
      "g\n",
      "u\n",
      "a\n",
      "j\n",
      "e\n",
      " \n",
      "d\n",
      "e\n",
      " \n",
      "p\n",
      "r\n",
      "o\n",
      "g\n",
      "r\n",
      "a\n",
      "m\n",
      "a\n",
      "c\n",
      "i\n",
      "o\n",
      "n\n",
      " \n",
      "p\n",
      "y\n",
      "t\n",
      "h\n",
      "o\n",
      "n\n"
     ]
    }
   ],
   "source": [
    "for i in cadena :\n",
    "    print(i)"
   ]
  },
  {
   "attachments": {},
   "cell_type": "markdown",
   "metadata": {},
   "source": [
    "13) Crear dos listas y unirlas en una tupla utilizando la función zip"
   ]
  },
  {
   "cell_type": "code",
   "execution_count": 38,
   "metadata": {},
   "outputs": [],
   "source": [
    "lista1= [\"chanchi\", \"color plata\"],\n",
    "lista2=[\"wody\", \"color vaquita\"] \n"
   ]
  },
  {
   "cell_type": "code",
   "execution_count": 37,
   "metadata": {},
   "outputs": [
    {
     "name": "stdout",
     "output_type": "stream",
     "text": [
      "<class 'zip'>\n",
      "[(['chanchi', 'color plata'], 'wody')]\n"
     ]
    }
   ],
   "source": [
    "listaz=zip(lista1,lista2)\n",
    "print(type(listaz))\n",
    "print(list(listaz))"
   ]
  },
  {
   "attachments": {},
   "cell_type": "markdown",
   "metadata": {},
   "source": [
    "14) A partir de la siguiente lista de números, crear una nueva sólo si el número es divisible por 7<br>\n",
    "lis = [18,21,29,32,35,42,56,60,63,71,84,90,91,100]"
   ]
  },
  {
   "cell_type": "code",
   "execution_count": 39,
   "metadata": {},
   "outputs": [
    {
     "name": "stdout",
     "output_type": "stream",
     "text": [
      "[21]\n",
      "[21, 35]\n",
      "[21, 35, 42]\n",
      "[21, 35, 42, 56]\n",
      "[21, 35, 42, 56, 63]\n",
      "[21, 35, 42, 56, 63, 84]\n",
      "[21, 35, 42, 56, 63, 84, 91]\n"
     ]
    }
   ],
   "source": [
    "lis=[18,21,29,32,35,42,56,60,63,71,84,90,91,100]\n",
    "divisible_por_7=[]\n",
    "for i in lis :\n",
    "    if i %7==0 :\n",
    "        divisible_por_7.append (i)\n",
    "        print (divisible_por_7)"
   ]
  },
  {
   "attachments": {},
   "cell_type": "markdown",
   "metadata": {},
   "source": [
    "15) A partir de la lista de a continuación, contar la cantidad total de elementos que contiene, teniendo en cuenta que un elemento de la lista podría ser otra lista:<br>\n",
    "lis = [[1,2,3,4],'rojo','verde',[True,False,False],['uno','dos','tres']]"
   ]
  },
  {
   "cell_type": "code",
   "execution_count": 40,
   "metadata": {},
   "outputs": [],
   "source": [
    "lista_n= [[1,2,3,4],\"rojo\",\"verde\",[True,False,False],[\"uno\",\"dos\",\"tres\"]]\n"
   ]
  },
  {
   "cell_type": "code",
   "execution_count": 41,
   "metadata": {},
   "outputs": [
    {
     "name": "stdout",
     "output_type": "stream",
     "text": [
      "La cantidad de elementos es:  1\n",
      "La cantidad de elementos es:  2\n",
      "La cantidad de elementos es:  3\n",
      "La cantidad de elementos es:  4\n",
      "La cantidad de elementos es:  5\n"
     ]
    }
   ],
   "source": [
    "cantidad=0\n",
    "for i in lista_n:\n",
    "    if type(i)==lista_n :\n",
    "        cantidad+=len.i\n",
    "    else: cantidad+=1\n",
    "    print(\"La cantidad de elementos es: \", cantidad)"
   ]
  },
  {
   "attachments": {},
   "cell_type": "markdown",
   "metadata": {},
   "source": [
    "16) Tomar la lista del punto anterior y convertir cada elemento en una lista si no lo es"
   ]
  },
  {
   "cell_type": "code",
   "execution_count": null,
   "metadata": {},
   "outputs": [],
   "source": []
  }
 ],
 "metadata": {
  "interpreter": {
   "hash": "c85384e4cb51c8b72350f3a8712cc8351fdc3955e32a27f9b60c6242ab125f01"
  },
  "kernelspec": {
   "display_name": "Python 3 (ipykernel)",
   "language": "python",
   "name": "python3"
  },
  "language_info": {
   "codemirror_mode": {
    "name": "ipython",
    "version": 3
   },
   "file_extension": ".py",
   "mimetype": "text/x-python",
   "name": "python",
   "nbconvert_exporter": "python",
   "pygments_lexer": "ipython3",
   "version": "3.11.3"
  }
 },
 "nbformat": 4,
 "nbformat_minor": 4
}
